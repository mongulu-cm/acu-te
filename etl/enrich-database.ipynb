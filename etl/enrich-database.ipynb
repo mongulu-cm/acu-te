{
 "cells": [
  {
   "cell_type": "code",
   "execution_count": null,
   "metadata": {
    "pycharm": {
     "is_executing": true
    }
   },
   "outputs": [
    {
     "name": "stdout",
     "output_type": "stream",
     "text": [
      "INFO: Pandarallel will run on 6 workers.\n",
      "INFO: Pandarallel will use Memory file system to transfer data between the main process and workers.\n"
     ]
    }
   ],
   "source": [
    "import pandas as pd\n",
    "from pandarallel import pandarallel\n",
    "from abbreviations import schwartz_hearst\n",
    "import time\n",
    "import ftfy\n",
    "import requests\n",
    "import requests_cache\n",
    "from rich.traceback import install\n",
    "from tqdm import tqdm\n",
    "from dotenv import dotenv_values\n",
    "config = dotenv_values(\".env\")\n",
    "\n",
    "tqdm.pandas()\n",
    "pandarallel.initialize(progress_bar=True)\n",
    "requests_cache.install_cache('enrich_cache', backend='sqlite')\n",
    "install(show_locals=True)\n",
    "\n",
    "\n",
    "subscription_key = config[\"BING_SUBSCRIPTION_KEY\"]\n",
    "search_url = \"https://api.bing.microsoft.com/v7.0/search\""
   ]
  },
  {
   "cell_type": "code",
   "execution_count": 2,
   "metadata": {
    "pycharm": {
     "name": "#%%\n"
    }
   },
   "outputs": [],
   "source": [
    "df = pd.read_csv('ref-rna-real-mars-2022.csv')"
   ]
  },
  {
   "cell_type": "code",
   "execution_count": 3,
   "metadata": {},
   "outputs": [
    {
     "data": {
      "text/html": [
       "<div>\n",
       "<style scoped>\n",
       "    .dataframe tbody tr th:only-of-type {\n",
       "        vertical-align: middle;\n",
       "    }\n",
       "\n",
       "    .dataframe tbody tr th {\n",
       "        vertical-align: top;\n",
       "    }\n",
       "\n",
       "    .dataframe thead th {\n",
       "        text-align: right;\n",
       "    }\n",
       "</style>\n",
       "<table border=\"1\" class=\"dataframe\">\n",
       "  <thead>\n",
       "    <tr style=\"text-align: right;\">\n",
       "      <th></th>\n",
       "      <th>Unnamed: 0</th>\n",
       "      <th>id</th>\n",
       "      <th>titre</th>\n",
       "      <th>objet</th>\n",
       "      <th>adrs_numvoie</th>\n",
       "      <th>adrs_typevoie</th>\n",
       "      <th>adrs_libvoie</th>\n",
       "      <th>adrs_codepostal</th>\n",
       "      <th>adrs_libcommune</th>\n",
       "      <th>siteweb</th>\n",
       "      <th>adrs</th>\n",
       "      <th>dept</th>\n",
       "      <th>region</th>\n",
       "      <th>social_object1_libelle</th>\n",
       "      <th>social_object2_libelle</th>\n",
       "      <th>longitude</th>\n",
       "      <th>latitude</th>\n",
       "    </tr>\n",
       "  </thead>\n",
       "  <tbody>\n",
       "    <tr>\n",
       "      <th>13</th>\n",
       "      <td>13</td>\n",
       "      <td>W751172035</td>\n",
       "      <td>CONSEIL DES CAMEROUNAIS DE LA DIASPORA (CCD)</td>\n",
       "      <td>oeuvrer pour l'instauration d'une société démo...</td>\n",
       "      <td>77 bis</td>\n",
       "      <td>RUE</td>\n",
       "      <td>Marcadet</td>\n",
       "      <td>75018.0</td>\n",
       "      <td>Paris</td>\n",
       "      <td>NaN</td>\n",
       "      <td>77 bis RUE Marcadet 75018 Paris</td>\n",
       "      <td>Paris</td>\n",
       "      <td>Île-de-France</td>\n",
       "      <td>ACTIVITÉS POLITIQUES</td>\n",
       "      <td>AUTRES</td>\n",
       "      <td>2.346887</td>\n",
       "      <td>48.890284</td>\n",
       "    </tr>\n",
       "    <tr>\n",
       "      <th>14</th>\n",
       "      <td>14</td>\n",
       "      <td>W751173780</td>\n",
       "      <td>COMMUNAUTE DES ENFANTS DE LOUM EN FRANCE (CELFRA)</td>\n",
       "      <td>promouvoir la solidarité, l'entente et le part...</td>\n",
       "      <td>44</td>\n",
       "      <td>RUE</td>\n",
       "      <td>Piat</td>\n",
       "      <td>75020.0</td>\n",
       "      <td>Paris</td>\n",
       "      <td>NaN</td>\n",
       "      <td>44 RUE Piat 75020 Paris</td>\n",
       "      <td>Paris</td>\n",
       "      <td>Île-de-France</td>\n",
       "      <td>INTERVENTIONS SOCIALES</td>\n",
       "      <td>AUTRES</td>\n",
       "      <td>2.384507</td>\n",
       "      <td>48.872674</td>\n",
       "    </tr>\n",
       "  </tbody>\n",
       "</table>\n",
       "</div>"
      ],
      "text/plain": [
       "    Unnamed: 0          id                                              titre  \\\n",
       "13          13  W751172035       CONSEIL DES CAMEROUNAIS DE LA DIASPORA (CCD)   \n",
       "14          14  W751173780  COMMUNAUTE DES ENFANTS DE LOUM EN FRANCE (CELFRA)   \n",
       "\n",
       "                                                objet adrs_numvoie  \\\n",
       "13  oeuvrer pour l'instauration d'une société démo...       77 bis   \n",
       "14  promouvoir la solidarité, l'entente et le part...           44   \n",
       "\n",
       "   adrs_typevoie adrs_libvoie  adrs_codepostal adrs_libcommune siteweb  \\\n",
       "13           RUE     Marcadet          75018.0           Paris     NaN   \n",
       "14           RUE         Piat          75020.0           Paris     NaN   \n",
       "\n",
       "                               adrs   dept         region  \\\n",
       "13  77 bis RUE Marcadet 75018 Paris  Paris  Île-de-France   \n",
       "14          44 RUE Piat 75020 Paris  Paris  Île-de-France   \n",
       "\n",
       "    social_object1_libelle social_object2_libelle  longitude   latitude  \n",
       "13    ACTIVITÉS POLITIQUES                 AUTRES   2.346887  48.890284  \n",
       "14  INTERVENTIONS SOCIALES                 AUTRES   2.384507  48.872674  "
      ]
     },
     "execution_count": 3,
     "metadata": {},
     "output_type": "execute_result"
    }
   ],
   "source": [
    "# Plusieurs titres continennent le nom de l'association et l'abbréviation entre parenthèses ou pas\n",
    "df[df.titre.str.contains(\"\\(\")].head(2)"
   ]
  },
  {
   "cell_type": "code",
   "execution_count": 7,
   "metadata": {},
   "outputs": [],
   "source": [
    "def enrich(site, name):\n",
    "    \n",
    "    #time.sleep(1)\n",
    "\n",
    "    name = ftfy.fix_text(name)  # enlever les \\\n",
    "    if \"(\" in name:\n",
    "        # L' algorithme de schwartz_hearst sépare le texte en 2 parties { \"abbréviation\": \"texte sans abbréviation\" }\n",
    "        # Cependant il ne fontionne que si l'abbréviation est entre parenthèses et après le nom non abrégé\n",
    "        # Il ne fonctionne donc pas si l'abbréviation est avant celui-ci et dans le cas ou il n'y a pas de parenthèses\n",
    "        pairs = schwartz_hearst.extract_abbreviation_definition_pairs(doc_text=name)\n",
    "        # print(pairs)\n",
    "        if len(pairs) == 1:\n",
    "            name = list(pairs.values())[0]\n",
    "\n",
    "    # inspired from https://github.com/Azure-Samples/cognitive-services-REST-api-samples/blob/master/python/Search/BingWebSearchv7.py\n",
    "    search_term = f'{name} site:{site}'\n",
    "    headers = {\"Ocp-Apim-Subscription-Key\": subscription_key}\n",
    "    params = {\"q\": search_term, \"textDecorations\": True, \"textFormat\": \"HTML\", \"mkt\": \"fr-FR\"}\n",
    "    response = requests.get(search_url, headers=headers, params=params)\n",
    "    response.raise_for_status()\n",
    "    search_results = response.json()\n",
    "\n",
    "    return search_results['webPages']['value'][0]['url'] if 'webPages' in search_results else \"not found\""
   ]
  },
  {
   "cell_type": "code",
   "execution_count": 5,
   "metadata": {
    "pycharm": {
     "name": "#%%\n"
    }
   },
   "outputs": [
    {
     "data": {
      "application/vnd.jupyter.widget-view+json": {
       "model_id": "de9ae557a0a64fb790e0254ab9c432cf",
       "version_major": 2,
       "version_minor": 0
      },
      "text/plain": [
       "VBox(children=(HBox(children=(IntProgress(value=0, description='0.00%', max=357), Label(value='0 / 357'))), HB…"
      ]
     },
     "metadata": {},
     "output_type": "display_data"
    }
   ],
   "source": [
    "df['facebook_url'] = df.parallel_apply(lambda row: enrich(\"facebook.com\", \n",
    "                                       row[\"titre\"]), axis=1)"
   ]
  },
  {
   "cell_type": "code",
   "execution_count": 8,
   "metadata": {},
   "outputs": [
    {
     "data": {
      "text/plain": [
       "count          1071\n",
       "unique          945\n",
       "top       not found\n",
       "freq             14\n",
       "Name: facebook_url, dtype: object"
      ]
     },
     "execution_count": 8,
     "metadata": {},
     "output_type": "execute_result"
    }
   ],
   "source": [
    "df[\"facebook_url\"].describe()"
   ]
  },
  {
   "cell_type": "code",
   "execution_count": 9,
   "metadata": {},
   "outputs": [
    {
     "data": {
      "text/plain": [
       "0     https://fr-fr.facebook.com/Association-Dor%C3%...\n",
       "1     https://www.facebook.com/CCMagdeburg/videos/tr...\n",
       "2     https://fr-fr.facebook.com/Institut-Universita...\n",
       "3     https://www.facebook.com/AJCD-Association-des-...\n",
       "4     https://fr-fr.facebook.com/Association-des-res...\n",
       "                            ...                        \n",
       "95           https://www.facebook.com/public/Adna-Bassa\n",
       "96      https://www.facebook.com/atelierprintemps/posts\n",
       "97    https://www.facebook.com/Solidarit%C3%A9-Pour-...\n",
       "98             https://www.facebook.com/LeMontCameroun/\n",
       "99    https://www.facebook.com/Amazones-Renaissance-...\n",
       "Name: facebook_url, Length: 100, dtype: object"
      ]
     },
     "execution_count": 9,
     "metadata": {},
     "output_type": "execute_result"
    }
   ],
   "source": [
    "df[\"facebook_url\"].head(100)"
   ]
  },
  {
   "cell_type": "code",
   "execution_count": 12,
   "metadata": {},
   "outputs": [
    {
     "data": {
      "application/vnd.jupyter.widget-view+json": {
       "model_id": "4594e67a5f7c4228b38c0c17813f493a",
       "version_major": 2,
       "version_minor": 0
      },
      "text/plain": [
       "VBox(children=(HBox(children=(IntProgress(value=0, description='0.00%', max=179), Label(value='0 / 179'))), HB…"
      ]
     },
     "metadata": {},
     "output_type": "display_data"
    }
   ],
   "source": [
    "df['helloasso_url'] = df.parallel_apply(lambda row: enrich(\"helloasso.com\", \n",
    "                                          row[\"titre\"]), axis=1)"
   ]
  },
  {
   "cell_type": "code",
   "execution_count": 14,
   "metadata": {},
   "outputs": [
    {
     "data": {
      "text/plain": [
       "count          1071\n",
       "unique          658\n",
       "top       not found\n",
       "freq             69\n",
       "Name: helloasso_url, dtype: object"
      ]
     },
     "execution_count": 14,
     "metadata": {},
     "output_type": "execute_result"
    }
   ],
   "source": [
    "df[\"helloasso_url\"].describe()"
   ]
  },
  {
   "cell_type": "code",
   "execution_count": 15,
   "metadata": {},
   "outputs": [
    {
     "data": {
      "text/plain": [
       "0    https://www.helloasso.com/associations/associa...\n",
       "1    https://www.helloasso.com/associations/cercle-...\n",
       "2    https://www.helloasso.com/associations/ladcc/c...\n",
       "3    https://www.helloasso.com/associations/feiac-f...\n",
       "4    https://www.helloasso.com/associations/union-d...\n",
       "5    https://www.helloasso.com/associations/solidar...\n",
       "6    https://www.helloasso.com/associations/entraid...\n",
       "7    https://www.helloasso.com/associations/amitie-...\n",
       "8    https://www.helloasso.com/associations/asso-me...\n",
       "9    https://www.helloasso.com/associations/union-d...\n",
       "Name: helloasso_url, dtype: object"
      ]
     },
     "execution_count": 15,
     "metadata": {},
     "output_type": "execute_result"
    }
   ],
   "source": [
    "df[\"helloasso_url\"].head(10)"
   ]
  },
  {
   "cell_type": "code",
   "execution_count": 16,
   "metadata": {},
   "outputs": [
    {
     "data": {
      "text/html": [
       "<div>\n",
       "<style scoped>\n",
       "    .dataframe tbody tr th:only-of-type {\n",
       "        vertical-align: middle;\n",
       "    }\n",
       "\n",
       "    .dataframe tbody tr th {\n",
       "        vertical-align: top;\n",
       "    }\n",
       "\n",
       "    .dataframe thead th {\n",
       "        text-align: right;\n",
       "    }\n",
       "</style>\n",
       "<table border=\"1\" class=\"dataframe\">\n",
       "  <thead>\n",
       "    <tr style=\"text-align: right;\">\n",
       "      <th></th>\n",
       "      <th>Unnamed: 0</th>\n",
       "      <th>id</th>\n",
       "      <th>titre</th>\n",
       "      <th>objet</th>\n",
       "      <th>adrs_numvoie</th>\n",
       "      <th>adrs_typevoie</th>\n",
       "      <th>adrs_libvoie</th>\n",
       "      <th>adrs_codepostal</th>\n",
       "      <th>adrs_libcommune</th>\n",
       "      <th>siteweb</th>\n",
       "      <th>adrs</th>\n",
       "      <th>dept</th>\n",
       "      <th>region</th>\n",
       "      <th>social_object1_libelle</th>\n",
       "      <th>social_object2_libelle</th>\n",
       "      <th>longitude</th>\n",
       "      <th>latitude</th>\n",
       "      <th>facebook_url</th>\n",
       "      <th>helloasso_url</th>\n",
       "    </tr>\n",
       "  </thead>\n",
       "  <tbody>\n",
       "    <tr>\n",
       "      <th>0</th>\n",
       "      <td>0</td>\n",
       "      <td>W751075369</td>\n",
       "      <td>ASSOCIATION NDOG-NÉM FRANCE ANNF</td>\n",
       "      <td>créer et favoriser les contacts le dialogue dv...</td>\n",
       "      <td>94</td>\n",
       "      <td>RUE</td>\n",
       "      <td>des Chataigniers</td>\n",
       "      <td>95100.0</td>\n",
       "      <td>Argenteuil</td>\n",
       "      <td>NaN</td>\n",
       "      <td>94 RUE des Chataigniers 95100 Argenteuil</td>\n",
       "      <td>Val-d'Oise</td>\n",
       "      <td>Île-de-France</td>\n",
       "      <td>AMICALES/ GROUPEMENTS AFFINITAIRES/ GROUPEMENT...</td>\n",
       "      <td>AUTRES</td>\n",
       "      <td>2.252414</td>\n",
       "      <td>48.957136</td>\n",
       "      <td>https://fr-fr.facebook.com/Association-Dor%C3%...</td>\n",
       "      <td>https://www.helloasso.com/associations/associa...</td>\n",
       "    </tr>\n",
       "    <tr>\n",
       "      <th>1</th>\n",
       "      <td>1</td>\n",
       "      <td>W751101199</td>\n",
       "      <td>CERCLE D'ETUDES DES TRADITIONS ET DE LA CULTUR...</td>\n",
       "      <td>étudier les traditions et la culture camerouna...</td>\n",
       "      <td>148</td>\n",
       "      <td>AV</td>\n",
       "      <td>d'Italie</td>\n",
       "      <td>75013.0</td>\n",
       "      <td>Paris</td>\n",
       "      <td>NaN</td>\n",
       "      <td>148 AV d'Italie 75013 Paris</td>\n",
       "      <td>Paris</td>\n",
       "      <td>Île-de-France</td>\n",
       "      <td>ASSOCIATIONS CARITATIVES/ HUMANITAIRES/ AIDE A...</td>\n",
       "      <td>AUTRES</td>\n",
       "      <td>2.358093</td>\n",
       "      <td>48.822629</td>\n",
       "      <td>https://www.facebook.com/CCMagdeburg/videos/tr...</td>\n",
       "      <td>https://www.helloasso.com/associations/cercle-...</td>\n",
       "    </tr>\n",
       "  </tbody>\n",
       "</table>\n",
       "</div>"
      ],
      "text/plain": [
       "   Unnamed: 0          id                                              titre  \\\n",
       "0           0  W751075369                   ASSOCIATION NDOG-NÉM FRANCE ANNF   \n",
       "1           1  W751101199  CERCLE D'ETUDES DES TRADITIONS ET DE LA CULTUR...   \n",
       "\n",
       "                                               objet adrs_numvoie  \\\n",
       "0  créer et favoriser les contacts le dialogue dv...           94   \n",
       "1  étudier les traditions et la culture camerouna...          148   \n",
       "\n",
       "  adrs_typevoie      adrs_libvoie  adrs_codepostal adrs_libcommune siteweb  \\\n",
       "0           RUE  des Chataigniers          95100.0      Argenteuil     NaN   \n",
       "1            AV          d'Italie          75013.0           Paris     NaN   \n",
       "\n",
       "                                       adrs        dept         region  \\\n",
       "0  94 RUE des Chataigniers 95100 Argenteuil  Val-d'Oise  Île-de-France   \n",
       "1               148 AV d'Italie 75013 Paris       Paris  Île-de-France   \n",
       "\n",
       "                              social_object1_libelle social_object2_libelle  \\\n",
       "0  AMICALES/ GROUPEMENTS AFFINITAIRES/ GROUPEMENT...                 AUTRES   \n",
       "1  ASSOCIATIONS CARITATIVES/ HUMANITAIRES/ AIDE A...                 AUTRES   \n",
       "\n",
       "   longitude   latitude                                       facebook_url  \\\n",
       "0   2.252414  48.957136  https://fr-fr.facebook.com/Association-Dor%C3%...   \n",
       "1   2.358093  48.822629  https://www.facebook.com/CCMagdeburg/videos/tr...   \n",
       "\n",
       "                                       helloasso_url  \n",
       "0  https://www.helloasso.com/associations/associa...  \n",
       "1  https://www.helloasso.com/associations/cercle-...  "
      ]
     },
     "execution_count": 16,
     "metadata": {},
     "output_type": "execute_result"
    }
   ],
   "source": [
    "df.head(2)"
   ]
  },
  {
   "cell_type": "code",
   "execution_count": 17,
   "metadata": {},
   "outputs": [],
   "source": [
    "df.to_csv(\"ref-rna-real-mars-2022-enriched-not-qualified.csv\")"
   ]
  }
 ],
 "metadata": {
  "kernelspec": {
   "display_name": "etl",
   "language": "python",
   "name": "etl"
  },
  "language_info": {
   "codemirror_mode": {
    "name": "ipython",
    "version": 3
   },
   "file_extension": ".py",
   "mimetype": "text/x-python",
   "name": "python",
   "nbconvert_exporter": "python",
   "pygments_lexer": "ipython3",
   "version": "3.8.10"
  }
 },
 "nbformat": 4,
 "nbformat_minor": 4
}