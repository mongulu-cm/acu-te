{
 "cells": [
  {
   "cell_type": "code",
   "execution_count": 2,
   "id": "ac7e8194-2dad-46e4-b6c2-c2593947ae89",
   "metadata": {},
   "outputs": [
    {
     "name": "stderr",
     "output_type": "stream",
     "text": [
      "22/04/02 17:05:47 WARN Utils: Your hostname, DESKTOP-3481LPC resolves to a loopback address: 127.0.1.1; using 172.29.233.30 instead (on interface eth0)\n",
      "22/04/02 17:05:47 WARN Utils: Set SPARK_LOCAL_IP if you need to bind to another address\n",
      "WARNING: An illegal reflective access operation has occurred\n",
      "WARNING: Illegal reflective access by org.apache.spark.unsafe.Platform (file:/home/bafou/.local/share/virtualenvs/data-mvNqHXNW/lib/python3.8/site-packages/pyspark/jars/spark-unsafe_2.12-3.2.1.jar) to constructor java.nio.DirectByteBuffer(long,int)\n",
      "WARNING: Please consider reporting this to the maintainers of org.apache.spark.unsafe.Platform\n",
      "WARNING: Use --illegal-access=warn to enable warnings of further illegal reflective access operations\n",
      "WARNING: All illegal access operations will be denied in a future release\n",
      "Using Spark's default log4j profile: org/apache/spark/log4j-defaults.properties\n",
      "Setting default log level to \"WARN\".\n",
      "To adjust logging level use sc.setLogLevel(newLevel). For SparkR, use setLogLevel(newLevel).\n",
      "22/04/02 17:05:50 WARN NativeCodeLoader: Unable to load native-hadoop library for your platform... using builtin-java classes where applicable\n"
     ]
    }
   ],
   "source": [
    "## CSV Files downloaded from https://www.data.gouv.fr/fr/datasets/repertoire-national-des-associations/  Fichier RNA Waldec du 01 Mars 2022\n",
    "\n",
    "import findspark\n",
    "findspark.init()\n",
    "from pyspark import SparkContext\n",
    "sc = SparkContext(appName=\"LIst of associations\")"
   ]
  },
  {
   "cell_type": "code",
   "execution_count": 67,
   "id": "efa0548a-26e7-4077-b260-48045b03d0e8",
   "metadata": {},
   "outputs": [
    {
     "name": "stdout",
     "output_type": "stream",
     "text": [
      "+----------+------+-----+------+-------+----------+----------+----------+----------+------+----------+--------------------+--------------------+--------------------+-------------+-------------+---------------+------------+---------------+-------------+----------------+------------+--------------+---------------+--------------------+--------------+--------------+---------------+--------------------+------------+---------------+--------------------+---------+------------+-------+--------+--------------------+--------+-------------------+\n",
      "|        id| id_ex|siret|rup_mi|gestion|date_creat|date_decla|date_publi|date_disso|nature|groupement|               titre|         titre_court|               objet|objet_social1|objet_social2|adrs_complement|adrs_numvoie|adrs_repetition|adrs_typevoie|    adrs_libvoie|adrs_distrib|adrs_codeinsee|adrs_codepostal|     adrs_libcommune|adrg_declarant|adrg_complemid|adrg_complemgeo|        adrg_libvoie|adrg_distrib|adrg_codepostal|       adrg_achemine|adrg_pays|dir_civilite|siteweb|publiweb|         observation|position|           maj_time|\n",
      "+----------+------+-----+------+-------+----------+----------+----------+----------+------+----------+--------------------+--------------------+--------------------+-------------+-------------+---------------+------------+---------------+-------------+----------------+------------+--------------+---------------+--------------------+--------------+--------------+---------------+--------------------+------------+---------------+--------------------+---------+------------+-------+--------+--------------------+--------+-------------------+\n",
      "|W751000001|125609| null|  null|   751P|1996-05-22|2012-01-26|1996-06-19|0001-01-01|     D|         S|               AVIVA|               AVIVA|dispenser  à domi...|       019004|       000000|           null|          42|           null|          RUE|     Le Peletier|           _|         75109|          75009|               Paris|          null|          null|           null| 42  RUE LE PELETIER|        null|          75009|               PARIS|   FRANCE|          TM|   null|       1|Numéro RNA déjà p...|       A|2012-02-27 10:48:48|\n",
      "|W751000002|     2| null|  null|   751P|1947-02-15|2017-07-20|1947-03-11|0001-01-01|     D|         S|SOCIETE AMICALE E...|     SOCIETE AMICALE|établir entre tou...|       014000|       000000|      LE BOYARD|         117|           null|           AV|     Félix Faure|           _|         75115|          75015|               Paris|          null|          null|      LE BOYARD|117  AVENUE FéLIX...|        null|          75015|               PARIS|   FRANCE|          PM|   null|       1|                null|       A|2018-09-03 12:36:20|\n",
      "|W751000005|     5| null|  null|   412S|2002-05-03|2014-12-09|2002-06-08|2014-11-15|     D|         S|             ZAGRAPH|             ZAGRAPH|association de pl...|       005020|       000000|           null|           5|           null|          IMP|du Vieux Château|           _|         41279|          41800|Villedieu-le-Château|          null|          null|           null|5  IMPASSE DU VIE...|        null|          41800|VILLEDIEU-LE-CHÂTEAU|   FRANCE|          PL|   null|       1|                null|       D|2014-12-22 13:38:51|\n",
      "|W751000006|     6| null|  null|   543P|2006-08-04|2007-05-31|0001-01-01|0001-01-01|     D|         S|            ECHOS DD|            ECHOS DD|Relais d'initiati...|       010000|       000000|           null|           9|           null|          RUE|   Gustave Petit|           _|         54395|          54000|               Nancy|          null|          null|           null|9  RUE GUSTAVE PETIT|        null|          54000|               NANCY|   FRANCE|          PF|   null|       1|                null|       A|2009-09-15 14:27:56|\n",
      "|W751000007|     7| null|  null|   131S|2007-12-11|2011-06-22|2008-01-05|2011-06-03|     D|         S|ÉOLIADES, LECTURE...|EOLIADES, LECTURE...|création de spect...|       006010|       000000|           null|          12|           null|          RUE|       Duperrier|           _|         13001|          13100|     Aix-en-Provence|          null|          null|           null|59 AVENUE SIMON B...|        null|          75019|               PARIS|   FRANCE|          PM|   null|       1|DISSOLUTION BTE 1...|       D|2011-07-20 08:02:06|\n",
      "+----------+------+-----+------+-------+----------+----------+----------+----------+------+----------+--------------------+--------------------+--------------------+-------------+-------------+---------------+------------+---------------+-------------+----------------+------------+--------------+---------------+--------------------+--------------+--------------+---------------+--------------------+------------+---------------+--------------------+---------+------------+-------+--------+--------------------+--------+-------------------+\n",
      "only showing top 5 rows\n",
      "\n"
     ]
    },
    {
     "name": "stderr",
     "output_type": "stream",
     "text": [
      "                                                                                \r"
     ]
    },
    {
     "data": {
      "text/plain": "2119460"
     },
     "execution_count": 67,
     "metadata": {},
     "output_type": "execute_result"
    }
   ],
   "source": [
    "from pyspark.sql import SparkSession\n",
    "spark = SparkSession \\\n",
    "    .builder \\\n",
    "    .appName(\"how to read csv file\") \\\n",
    "    .getOrCreate()\n",
    "\n",
    "file_location = \"/mnt/d/Projects/mongulu/acu-te/tests/data/rna_waldec_20220301/\"\n",
    "file_type = \"csv\"\n",
    "\n",
    "# CSV options\n",
    "infer_schema = \"false\"\n",
    "first_row_is_header = \"true\"\n",
    "delimiter = \";\"\n",
    "\n",
    "# The applied options are for CSV files. For other file types, these will be ignored.\n",
    "df = spark.read.format(file_type) \\\n",
    "  .option(\"inferSchema\", infer_schema) \\\n",
    "  .option(\"header\", first_row_is_header) \\\n",
    "  .option(\"sep\", delimiter) \\\n",
    "  .option(\"encoding\", \"ISO-8859-1\") \\\n",
    "  .load(file_location)\n",
    "\n",
    "df.show(5)\n",
    "df.count()"
   ]
  },
  {
   "cell_type": "code",
   "execution_count": 68,
   "id": "4dcc3fba",
   "metadata": {
    "pycharm": {
     "name": "#%%\n"
    },
    "scrolled": true
   },
   "outputs": [
    {
     "data": {
      "text/plain": "['id',\n 'id_ex',\n 'siret',\n 'rup_mi',\n 'gestion',\n 'date_creat',\n 'date_decla',\n 'date_publi',\n 'date_disso',\n 'nature',\n 'groupement',\n 'titre',\n 'titre_court',\n 'objet',\n 'objet_social1',\n 'objet_social2',\n 'adrs_complement',\n 'adrs_numvoie',\n 'adrs_repetition',\n 'adrs_typevoie',\n 'adrs_libvoie',\n 'adrs_distrib',\n 'adrs_codeinsee',\n 'adrs_codepostal',\n 'adrs_libcommune',\n 'adrg_declarant',\n 'adrg_complemid',\n 'adrg_complemgeo',\n 'adrg_libvoie',\n 'adrg_distrib',\n 'adrg_codepostal',\n 'adrg_achemine',\n 'adrg_pays',\n 'dir_civilite',\n 'siteweb',\n 'publiweb',\n 'observation',\n 'position',\n 'maj_time']"
     },
     "execution_count": 68,
     "metadata": {},
     "output_type": "execute_result"
    }
   ],
   "source": [
    "df.columns"
   ]
  },
  {
   "cell_type": "code",
   "execution_count": 69,
   "id": "5b098c99",
   "metadata": {
    "pycharm": {
     "name": "#%%\n"
    }
   },
   "outputs": [
    {
     "name": "stdout",
     "output_type": "stream",
     "text": [
      "+----------+--------------------+--------------------+-------------+-------------+------------+-------------+--------------------+---------------+------------------+--------------------+--------------------+\n",
      "|        id|               titre|               objet|objet_social1|objet_social2|adrs_numvoie|adrs_typevoie|        adrs_libvoie|adrs_codepostal|   adrs_libcommune|             siteweb|                adrs|\n",
      "+----------+--------------------+--------------------+-------------+-------------+------------+-------------+--------------------+---------------+------------------+--------------------+--------------------+\n",
      "|W751075369|ASSOCIATION NDOG-...|créer et favorise...|       014000|       000000|          94|          RUE|    des Chataigniers|          95100|        Argenteuil|                null|94 RUE des Chatai...|\n",
      "|W751101199|CERCLE D'ETUDES D...|étudier les tradi...|       020015|       000000|         148|           AV|            d'Italie|          75013|             Paris|                null|148 AV d'Italie 7...|\n",
      "|W751105303|LES AMIS DE L'INS...|contribuer a la r...|       040000|       000000|          21|          RUE|             d'Assas|          75006|             Paris|                null|21 RUE d'Assas 75...|\n",
      "|W751109411|ASSOCIATION DES C...|réunir, en france...|       014035|       000000|           4|          RUE|       de Castellane|          75008|             Paris|www.accd-cameroun...|4 RUE de Castella...|\n",
      "|W751118437|ASSOCIATION CAMER...|être le lieu de r...|       019000|       000000|           8|          RUE|       Raymond pitet|          75017|             Paris|                null|8 RUE Raymond pit...|\n",
      "|W751128115|ASSOCIATION SOLID...|assistance morale...|       019000|       000000|         148|           AV|            d'Italie|          75013|             Paris|                null|148 AV d'Italie 7...|\n",
      "|W751131270|ASSOCIATION CAMER...|promouvoir toute ...|       014040|       000000|          37|          RUE|            Duparchy|          91170|    Viry-Châtillon|                null|37 RUE Duparchy 9...|\n",
      "|W751135798|COLLECTIF DES ASS...|échanger nos expé...|       007075|       000000|         114|          RUE|        des Pyrenees|          75020|             Paris|                null|114 RUE des Pyren...|\n",
      "|W751143617|AMICALE MENOUA CA...|soutenir et promo...|       024045|       000000|      16 bis|           PL|        jules valles|          91000|              Évry|                null|16 bis PL jules v...|\n",
      "|W751155603|CONSEIL DES CAMER...|unir en son sein ...|       020000|       019000|           1|          RUE|         de Gergovie|          75014|             Paris|                null|1 RUE de Gergovie...|\n",
      "|W751159475|               AKIBA|promouvoir les éc...|       006070|       009000|          56|          RUE|      des Maraîchers|          75020|             Paris|                null|56 RUE des Maraîc...|\n",
      "|W751167344|L'ESPRIT TRADITIO...|rassemblement et ...|       006000|       000000|          47|           BD|           Garibaldi|          75015|             Paris|                null|47 BD Garibaldi 7...|\n",
      "|W751171311|SOUTHERN CAMEROON...|réunion des camer...|       009000|       000000|       17/19|           BD|        de la Muette|          95140|Garges-lès-Gonesse|                null|17/19 BD de la Mu...|\n",
      "|W751172035|CONSEIL DES CAMER...|oeuvrer pour l'in...|       001020|       000000|      77 bis|          RUE|            Marcadet|          75018|             Paris|                null|77 bis RUE Marcad...|\n",
      "|W751173780|COMMUNAUTE DES EN...|promouvoir la sol...|       019000|       000000|          44|          RUE|                Piat|          75020|             Paris|                null|44 RUE Piat 75020...|\n",
      "|W751176298|OVA INSEEC OBJECT...|association human...|       018005|       000000|          27|           AV|    Claude Vellefaux|          75010|             Paris|                null|27 AV Claude Vell...|\n",
      "|W751176711|ESPACE CULTUREL G...|promotion et déve...|       019000|       000000|           7|          RUE|       des Epinettes|          75017|             Paris|                null|7 RUE des Epinett...|\n",
      "|W751191215|ASSOCIATION POUR ...|accompagner l'ins...|       017200|       000000|           9|          RUE|du Bouquet de lon...|          75016|             Paris|                null|9 RUE du Bouquet ...|\n",
      "|W751200732|BAZOU GENERAL DE ...|promouvoir l'unio...|       014045|       000000|           3|          RES|        le Gai Logis|          93350|        Le Bourget|                null|3 RES le Gai Logi...|\n",
      "|W751200846|POLE D'ACTION POU...|camerounais et am...|       014040|       000000|           4|          ALL|    Valentin Abeille|          75018|             Paris|                null|4 ALL Valentin Ab...|\n",
      "+----------+--------------------+--------------------+-------------+-------------+------------+-------------+--------------------+---------------+------------------+--------------------+--------------------+\n",
      "only showing top 20 rows\n",
      "\n"
     ]
    },
    {
     "name": "stderr",
     "output_type": "stream",
     "text": [
      "22/04/02 19:35:19 WARN CacheManager: Asked to cache already cached data.\n"
     ]
    },
    {
     "data": {
      "text/plain": "1071"
     },
     "execution_count": 69,
     "metadata": {},
     "output_type": "execute_result"
    }
   ],
   "source": [
    "from pyspark.sql.functions import col,lower,upper,lit,concat,when,concat_ws\n",
    "from pyspark import StorageLevel\n",
    "\n",
    "# S/D pour enlever les associations Dissoutes ou supprimé\n",
    "# use concat_ws instead of concat to avoid value being null if one is null (concat)\n",
    "df2 = df.filter(df.titre.contains(\"CAMEROUN\") | df.objet.contains(\"cameroun\") ) \\\n",
    "        .filter(~df.position.isin([\"D\",\"S\"]) ) \\\n",
    "        .withColumn(\"titre\",upper(col(\"titre\")))\\\n",
    "        .withColumn(\"objet\",lower(col(\"objet\")))\\\n",
    "        .select(\"id\",\"titre\", \"objet\", \"objet_social1\",\"objet_social2\",\"adrs_numvoie\",\"adrs_typevoie\",\"adrs_libvoie\",\"adrs_codepostal\",\"adrs_libcommune\", \"siteweb\") \\\n",
    "        .withColumn(\"adrs\",concat_ws(\" \",col(\"adrs_numvoie\"), col(\"adrs_typevoie\"),col(\"adrs_libvoie\"),col('adrs_codepostal'),col('adrs_libcommune'))) \\\n",
    "        .cache()\n",
    "\n",
    "df2.show()\n",
    "df2.count()\n"
   ]
  },
  {
   "cell_type": "code",
   "execution_count": 70,
   "id": "e5630b4b",
   "metadata": {
    "pycharm": {
     "name": "#%%\n"
    }
   },
   "outputs": [
    {
     "name": "stdout",
     "output_type": "stream",
     "text": [
      "+----------+--------------------+--------------------+--------------------+--------------------+--------------------+-------------+------------+---------------+---------------+-------+--------------------+\n",
      "|        id|               titre|               objet|       objet_social1|       objet_social2|        adrs_numvoie|adrs_typevoie|adrs_libvoie|adrs_codepostal|adrs_libcommune|siteweb|                adrs|\n",
      "+----------+--------------------+--------------------+--------------------+--------------------+--------------------+-------------+------------+---------------+---------------+-------+--------------------+\n",
      "|W751224442|ARTS & CULTURE PA...|promotion et déve...| promotion des ar...| organiser des re...| à moyen terme, l...|       006100|        null|            RUE|         Capron|  75018| à moyen terme, l...|\n",
      "|W751228313|         PARIS-KRIBI|\"association dite...| de permettre aux...| de former les je...| sensibiliser les...|       020015|      000000|           null|            RUE|   null| sensibiliser les...|\n",
      "|W332023722|UNION DES COEURS ...|\"création des str...| accès au soin et...| accès aux loisir...|              000000|           82|        null|              _|          33063| FRANCE|   000000 82 _ 33063|\n",
      "|W763006523|     THE SKY SINGERS|\"chanter le gospe...| organiser des re...| participer à div...|              000000|            8|        null|              _|          76540| FRANCE|    000000 8 _ 76540|\n",
      "|W913002330|VILLAGE ACTIONS S...|\"rassembler les f...| participer à l'a...| sauvegarder les ...| développer la so...|       000000|        null|            RUE|     de Wissous|  91420| développer la so...|\n",
      "|W872001258|SANTE FORMATION A...|\"developper la fo...| suivre l'évoluti...|              015045|                null|         null|         RUE|          87085|          87000|     PM|     RUE 87085 87000|\n",
      "+----------+--------------------+--------------------+--------------------+--------------------+--------------------+-------------+------------+---------------+---------------+-------+--------------------+\n",
      "\n"
     ]
    },
    {
     "data": {
      "text/plain": "6"
     },
     "execution_count": 70,
     "metadata": {},
     "output_type": "execute_result"
    }
   ],
   "source": [
    "from pyspark.sql.functions import length\n",
    "df2.where(length(col(\"objet_social1\")) >=7).show()\n",
    "df2.where(length(col(\"objet_social1\")) >=7).count()"
   ]
  },
  {
   "cell_type": "code",
   "execution_count": 71,
   "outputs": [
    {
     "name": "stdout",
     "output_type": "stream",
     "text": [
      "+----------+---------------+\n",
      "|        id|adrs_codepostal|\n",
      "+----------+---------------+\n",
      "|W751224442|            RUE|\n",
      "|W332023722|              _|\n",
      "|W763006523|              _|\n",
      "|W913002330|            RUE|\n",
      "+----------+---------------+\n",
      "\n"
     ]
    }
   ],
   "source": [
    "df2.select(\"id\",\"adrs_codepostal\").where(length(col(\"adrs_codepostal\")) < 5).show()"
   ],
   "metadata": {
    "collapsed": false,
    "pycharm": {
     "name": "#%%\n"
    }
   }
  },
  {
   "cell_type": "code",
   "execution_count": 72,
   "id": "450186b2",
   "metadata": {
    "pycharm": {
     "name": "#%%\n"
    }
   },
   "outputs": [
    {
     "name": "stdout",
     "output_type": "stream",
     "text": [
      "INFO: Pandarallel will run on 6 workers.\n",
      "INFO: Pandarallel will use Memory file system to transfer data between the main process and workers.\n"
     ]
    },
    {
     "data": {
      "text/plain": "VBox(children=(HBox(children=(IntProgress(value=0, description='0.00%', max=1), Label(value='0 / 1'))), HBox(c…",
      "application/vnd.jupyter.widget-view+json": {
       "version_major": 2,
       "version_minor": 0,
       "model_id": "6eae1f8f062449269db600723de51a3c"
      }
     },
     "metadata": {},
     "output_type": "display_data"
    },
    {
     "data": {
      "text/plain": "VBox(children=(HBox(children=(IntProgress(value=0, description='0.00%', max=179), Label(value='0 / 179'))), HB…",
      "application/vnd.jupyter.widget-view+json": {
       "version_major": 2,
       "version_minor": 0,
       "model_id": "5f0f0b11f6b443898ea6d3d0a16896d9"
      }
     },
     "metadata": {},
     "output_type": "display_data"
    },
    {
     "data": {
      "text/plain": "VBox(children=(HBox(children=(IntProgress(value=0, description='0.00%', max=179), Label(value='0 / 179'))), HB…",
      "application/vnd.jupyter.widget-view+json": {
       "version_major": 2,
       "version_minor": 0,
       "model_id": "e79fbba7ab824e3f8063dcc509a16480"
      }
     },
     "metadata": {},
     "output_type": "display_data"
    },
    {
     "data": {
      "text/plain": "VBox(children=(HBox(children=(IntProgress(value=0, description='0.00%', max=1), Label(value='0 / 1'))), HBox(c…",
      "application/vnd.jupyter.widget-view+json": {
       "version_major": 2,
       "version_minor": 0,
       "model_id": "1761abeb29fa41259fbb2fd90c6d583f"
      }
     },
     "metadata": {},
     "output_type": "display_data"
    },
    {
     "data": {
      "text/plain": "VBox(children=(HBox(children=(IntProgress(value=0, description='0.00%', max=1), Label(value='0 / 1'))), HBox(c…",
      "application/vnd.jupyter.widget-view+json": {
       "version_major": 2,
       "version_minor": 0,
       "model_id": "400e5780089e429a8093c9ed020cf2bd"
      }
     },
     "metadata": {},
     "output_type": "display_data"
    },
    {
     "data": {
      "text/plain": "VBox(children=(HBox(children=(IntProgress(value=0, description='0.00%', max=1), Label(value='0 / 1'))), HBox(c…",
      "application/vnd.jupyter.widget-view+json": {
       "version_major": 2,
       "version_minor": 0,
       "model_id": "99abfeeb8a6348e8b35133a20603de08"
      }
     },
     "metadata": {},
     "output_type": "display_data"
    },
    {
     "data": {
      "text/plain": "              id                                              titre  \\\n0     W751075369                   ASSOCIATION NDOG-NÉM FRANCE ANNF   \n1     W751101199  CERCLE D'ETUDES DES TRADITIONS ET DE LA CULTUR...   \n2     W751105303  LES AMIS DE L'INSTITUT CATHOLIQUE DE YAOUNDE C...   \n3     W751109411  ASSOCIATION DES CHRETIENS DU CAMEROUN POUR LE ...   \n4     W751118437  ASSOCIATION CAMEROUNAISE D'ENTRAIDE DES RESSOR...   \n...          ...                                                ...   \n1066  W051001109  ASSOCIATION DES AMIS DU COLLEGE EVANGELIQUE DE...   \n1067  W052001700                                          AFRICOEUR   \n1068  W2A4000401  ASSOCIATION DE SOUTIEN AUX ENFANTS CAMEROUNAIS...   \n1069  W9T1002080     ASSOCIATIONS DES CAMEROUNAIS DE MAYOTTE (ACAM)   \n1070  W901002017  ASEHCAM - ASSOCIATION POUR LES ENFANTS HANDICA...   \n\n                                                  objet objet_social1  \\\n0     créer et favoriser les contacts le dialogue dv...        014000   \n1     étudier les traditions et la culture camerouna...        020015   \n2     contribuer a la réalisation des objectifs de l...        040000   \n3     réunir, en france comme à l'étranger, au camer...        014035   \n4     être le lieu de rencontre de tous les boh nset...        019000   \n...                                                 ...           ...   \n1066  soutenir le collège evangélique de bangwa (cam...        020015   \n1067  faciliter et promouvoir l'entraide et la solid...        009050   \n1068  association à but humanitaire. elle apporte ai...        020000   \n1069  rencontre des camerounais résidents ou de pass...        014040   \n1070  venir en aide, soutenir et apporter notre sout...        020020   \n\n     objet_social2 adrs_numvoie adrs_typevoie      adrs_libvoie  \\\n0           000000           94           RUE  des Chataigniers   \n1           000000          148            AV          d'Italie   \n2           000000           21           RUE           d'Assas   \n3           000000            4           RUE     de Castellane   \n4           000000            8           RUE     Raymond pitet   \n...            ...          ...           ...               ...   \n1066        000000           17         VILL1            Curial   \n1067        020020         None         CHEM1     de Pré Lacour   \n1068        020020         None          None           Trinité   \n1069        000000            8           RTE         de Vahibé   \n1070        018050           37           RUE   Edouard Herriot   \n\n     adrs_codepostal adrs_libcommune                siteweb  \\\n0              95100      Argenteuil                   None   \n1              75013           Paris                   None   \n2              75006           Paris                   None   \n3              75008           Paris  www.accd-cameroun.org   \n4              75017           Paris                   None   \n...              ...             ...                    ...   \n1066           75019           Paris                   None   \n1067           05140       Aspremont                   None   \n1068           20137   Porto-Vecchio                   None   \n1069           97600       Mamoudzou                   None   \n1070           90000         Belfort                   None   \n\n                                          adrs                   dept  \\\n0     94 RUE des Chataigniers 95100 Argenteuil             Val-d'Oise   \n1                  148 AV d'Italie 75013 Paris                  Paris   \n2                   21 RUE d'Assas 75006 Paris                  Paris   \n3              4 RUE de Castellane 75008 Paris                  Paris   \n4              8 RUE Raymond pitet 75017 Paris                  Paris   \n...                                        ...                    ...   \n1066               17 VILL1 Curial 75019 Paris                  Paris   \n1067       CHEM1 de Pré Lacour 05140 Aspremont           Hautes-Alpes   \n1068               Trinité 20137 Porto-Vecchio           Corse-du-Sud   \n1069           8 RTE de Vahibé 97600 Mamoudzou                          \n1070      37 RUE Edouard Herriot 90000 Belfort  Territoire de Belfort   \n\n                          region  \n0                  Île-de-France  \n1                  Île-de-France  \n2                  Île-de-France  \n3                  Île-de-France  \n4                  Île-de-France  \n...                          ...  \n1066               Île-de-France  \n1067  Provence-Alpes-Côte d'Azur  \n1068                       Corse  \n1069                     Koungou  \n1070     Bourgogne-Franche-Comté  \n\n[1071 rows x 14 columns]",
      "text/html": "<div>\n<style scoped>\n    .dataframe tbody tr th:only-of-type {\n        vertical-align: middle;\n    }\n\n    .dataframe tbody tr th {\n        vertical-align: top;\n    }\n\n    .dataframe thead th {\n        text-align: right;\n    }\n</style>\n<table border=\"1\" class=\"dataframe\">\n  <thead>\n    <tr style=\"text-align: right;\">\n      <th></th>\n      <th>id</th>\n      <th>titre</th>\n      <th>objet</th>\n      <th>objet_social1</th>\n      <th>objet_social2</th>\n      <th>adrs_numvoie</th>\n      <th>adrs_typevoie</th>\n      <th>adrs_libvoie</th>\n      <th>adrs_codepostal</th>\n      <th>adrs_libcommune</th>\n      <th>siteweb</th>\n      <th>adrs</th>\n      <th>dept</th>\n      <th>region</th>\n    </tr>\n  </thead>\n  <tbody>\n    <tr>\n      <th>0</th>\n      <td>W751075369</td>\n      <td>ASSOCIATION NDOG-NÉM FRANCE ANNF</td>\n      <td>créer et favoriser les contacts le dialogue dv...</td>\n      <td>014000</td>\n      <td>000000</td>\n      <td>94</td>\n      <td>RUE</td>\n      <td>des Chataigniers</td>\n      <td>95100</td>\n      <td>Argenteuil</td>\n      <td>None</td>\n      <td>94 RUE des Chataigniers 95100 Argenteuil</td>\n      <td>Val-d'Oise</td>\n      <td>Île-de-France</td>\n    </tr>\n    <tr>\n      <th>1</th>\n      <td>W751101199</td>\n      <td>CERCLE D'ETUDES DES TRADITIONS ET DE LA CULTUR...</td>\n      <td>étudier les traditions et la culture camerouna...</td>\n      <td>020015</td>\n      <td>000000</td>\n      <td>148</td>\n      <td>AV</td>\n      <td>d'Italie</td>\n      <td>75013</td>\n      <td>Paris</td>\n      <td>None</td>\n      <td>148 AV d'Italie 75013 Paris</td>\n      <td>Paris</td>\n      <td>Île-de-France</td>\n    </tr>\n    <tr>\n      <th>2</th>\n      <td>W751105303</td>\n      <td>LES AMIS DE L'INSTITUT CATHOLIQUE DE YAOUNDE C...</td>\n      <td>contribuer a la réalisation des objectifs de l...</td>\n      <td>040000</td>\n      <td>000000</td>\n      <td>21</td>\n      <td>RUE</td>\n      <td>d'Assas</td>\n      <td>75006</td>\n      <td>Paris</td>\n      <td>None</td>\n      <td>21 RUE d'Assas 75006 Paris</td>\n      <td>Paris</td>\n      <td>Île-de-France</td>\n    </tr>\n    <tr>\n      <th>3</th>\n      <td>W751109411</td>\n      <td>ASSOCIATION DES CHRETIENS DU CAMEROUN POUR LE ...</td>\n      <td>réunir, en france comme à l'étranger, au camer...</td>\n      <td>014035</td>\n      <td>000000</td>\n      <td>4</td>\n      <td>RUE</td>\n      <td>de Castellane</td>\n      <td>75008</td>\n      <td>Paris</td>\n      <td>www.accd-cameroun.org</td>\n      <td>4 RUE de Castellane 75008 Paris</td>\n      <td>Paris</td>\n      <td>Île-de-France</td>\n    </tr>\n    <tr>\n      <th>4</th>\n      <td>W751118437</td>\n      <td>ASSOCIATION CAMEROUNAISE D'ENTRAIDE DES RESSOR...</td>\n      <td>être le lieu de rencontre de tous les boh nset...</td>\n      <td>019000</td>\n      <td>000000</td>\n      <td>8</td>\n      <td>RUE</td>\n      <td>Raymond pitet</td>\n      <td>75017</td>\n      <td>Paris</td>\n      <td>None</td>\n      <td>8 RUE Raymond pitet 75017 Paris</td>\n      <td>Paris</td>\n      <td>Île-de-France</td>\n    </tr>\n    <tr>\n      <th>...</th>\n      <td>...</td>\n      <td>...</td>\n      <td>...</td>\n      <td>...</td>\n      <td>...</td>\n      <td>...</td>\n      <td>...</td>\n      <td>...</td>\n      <td>...</td>\n      <td>...</td>\n      <td>...</td>\n      <td>...</td>\n      <td>...</td>\n      <td>...</td>\n    </tr>\n    <tr>\n      <th>1066</th>\n      <td>W051001109</td>\n      <td>ASSOCIATION DES AMIS DU COLLEGE EVANGELIQUE DE...</td>\n      <td>soutenir le collège evangélique de bangwa (cam...</td>\n      <td>020015</td>\n      <td>000000</td>\n      <td>17</td>\n      <td>VILL1</td>\n      <td>Curial</td>\n      <td>75019</td>\n      <td>Paris</td>\n      <td>None</td>\n      <td>17 VILL1 Curial 75019 Paris</td>\n      <td>Paris</td>\n      <td>Île-de-France</td>\n    </tr>\n    <tr>\n      <th>1067</th>\n      <td>W052001700</td>\n      <td>AFRICOEUR</td>\n      <td>faciliter et promouvoir l'entraide et la solid...</td>\n      <td>009050</td>\n      <td>020020</td>\n      <td>None</td>\n      <td>CHEM1</td>\n      <td>de Pré Lacour</td>\n      <td>05140</td>\n      <td>Aspremont</td>\n      <td>None</td>\n      <td>CHEM1 de Pré Lacour 05140 Aspremont</td>\n      <td>Hautes-Alpes</td>\n      <td>Provence-Alpes-Côte d'Azur</td>\n    </tr>\n    <tr>\n      <th>1068</th>\n      <td>W2A4000401</td>\n      <td>ASSOCIATION DE SOUTIEN AUX ENFANTS CAMEROUNAIS...</td>\n      <td>association à but humanitaire. elle apporte ai...</td>\n      <td>020000</td>\n      <td>020020</td>\n      <td>None</td>\n      <td>None</td>\n      <td>Trinité</td>\n      <td>20137</td>\n      <td>Porto-Vecchio</td>\n      <td>None</td>\n      <td>Trinité 20137 Porto-Vecchio</td>\n      <td>Corse-du-Sud</td>\n      <td>Corse</td>\n    </tr>\n    <tr>\n      <th>1069</th>\n      <td>W9T1002080</td>\n      <td>ASSOCIATIONS DES CAMEROUNAIS DE MAYOTTE (ACAM)</td>\n      <td>rencontre des camerounais résidents ou de pass...</td>\n      <td>014040</td>\n      <td>000000</td>\n      <td>8</td>\n      <td>RTE</td>\n      <td>de Vahibé</td>\n      <td>97600</td>\n      <td>Mamoudzou</td>\n      <td>None</td>\n      <td>8 RTE de Vahibé 97600 Mamoudzou</td>\n      <td></td>\n      <td>Koungou</td>\n    </tr>\n    <tr>\n      <th>1070</th>\n      <td>W901002017</td>\n      <td>ASEHCAM - ASSOCIATION POUR LES ENFANTS HANDICA...</td>\n      <td>venir en aide, soutenir et apporter notre sout...</td>\n      <td>020020</td>\n      <td>018050</td>\n      <td>37</td>\n      <td>RUE</td>\n      <td>Edouard Herriot</td>\n      <td>90000</td>\n      <td>Belfort</td>\n      <td>None</td>\n      <td>37 RUE Edouard Herriot 90000 Belfort</td>\n      <td>Territoire de Belfort</td>\n      <td>Bourgogne-Franche-Comté</td>\n    </tr>\n  </tbody>\n</table>\n<p>1071 rows × 14 columns</p>\n</div>"
     },
     "execution_count": 72,
     "metadata": {},
     "output_type": "execute_result"
    }
   ],
   "source": [
    "import requests\n",
    "import requests_cache\n",
    "requests_cache.install_cache('demo_cache')\n",
    "\n",
    "from tqdm import tqdm\n",
    "tqdm.pandas()\n",
    "\n",
    "from pandarallel import pandarallel\n",
    "pandarallel.initialize(progress_bar=True)\n",
    "\n",
    "def get_info(rna):\n",
    "\n",
    "    url = \"https://entreprise.data.gouv.fr/api/rna/v1/id/\"\n",
    "    r = requests.get(\"{}/{}\".format(url,rna))\n",
    "    association = r.json()[\"association\"]\n",
    "    info = { \"objet_social1\": association[\"objet_social1\"],\n",
    "             \"objet_social2\": association[\"objet_social2\"] ,\n",
    "             \"adrs\": \"{} {} {}\".format(association[\"adresse_gestion_libelle_voie\"],\n",
    "                                       association[\"adresse_code_postal\"],\n",
    "                                       association[\"adresse_libelle_commune\"] ),\n",
    "             \"code_postal\" : association[\"adresse_code_postal\"] }\n",
    "\n",
    "    return info\n",
    "\n",
    "def get_dept_region(code_postal):\n",
    "    url = \"http://api.geonames.org/postalCodeLookupJSON\"\n",
    "    r =requests.get(\"{}?postalcode={}&username=mikera&country=FR\".format(url,code_postal))\n",
    "    info = { \"dept\" :  r.json()[\"postalcodes\"][0].get(\"adminName2\",\"\") ,\n",
    "             \"region\": r.json()[\"postalcodes\"][0].get(\"adminName1\",\"\")\n",
    "    }\n",
    "    return  info\n",
    "\n",
    "df3 = df2.toPandas()\n",
    "\n",
    "# get_info(\"W751224442\")\n",
    "df3.loc[df3.adrs_codepostal.str.len() < 5 , \"adrs_codepostal\"] = df3[df3.adrs_codepostal.str.len() < 5].parallel_apply(lambda row: get_info(row[\"id\"])[\"code_postal\"],axis=1)\n",
    "df3[\"dept\"] = df3.parallel_apply(lambda row: get_dept_region(row[\"adrs_codepostal\"])[\"dept\"],axis=1)\n",
    "df3[\"region\"] = df3.parallel_apply(lambda row: get_dept_region(row[\"adrs_codepostal\"])[\"region\"],axis=1)\n",
    "\n",
    "df3.loc[df3.objet_social1.str.len() >=7 , \"adrs\"] = df3[df3.objet_social1.str.len() >=7].parallel_apply(lambda row: get_info(row[\"id\"])[\"adrs\"],axis=1)\n",
    "df3.loc[df3.objet_social1.str.len() >=7 , \"objet_social2\"] = df3[df3.objet_social1.str.len() >=7].parallel_apply(lambda row: get_info(row[\"id\"])[\"objet_social2\"],axis=1)\n",
    "df3.loc[df3.objet_social1.str.len() >=7 , \"objet_social1\"] = df3[df3.objet_social1.str.len() >=7].parallel_apply(lambda row: get_info(row[\"id\"])[\"objet_social1\"],axis=1)\n",
    "df3"
   ]
  },
  {
   "cell_type": "code",
   "execution_count": 73,
   "outputs": [
    {
     "data": {
      "text/plain": "              id                                              titre  \\\n759   W9R1005550                                 KAMER OCEAN INDIEN   \n1061  W9C1003716  KAMER973-ASSOCIATION DES CAMEROUNAIS DE LA GUYANE   \n1069  W9T1002080     ASSOCIATIONS DES CAMEROUNAIS DE MAYOTTE (ACAM)   \n\n                                                  objet objet_social1  \\\n759   promouvoir l'amitié, la solidarité et la frate...        014040   \n1061  permettre aux personnes d'origine camerounaise...        014040   \n1069  rencontre des camerounais résidents ou de pass...        014040   \n\n     objet_social2 adrs_numvoie adrs_typevoie       adrs_libvoie  \\\n759         007075          6 B         CHEM1             Romely   \n1061        000000           71           RUE  Lieutenant Goinet   \n1069        000000            8           RTE          de Vahibé   \n\n     adrs_codepostal adrs_libcommune siteweb  \\\n759            97419   La Possession    None   \n1061           97300         Cayenne    None   \n1069           97600       Mamoudzou    None   \n\n                                        adrs     dept   region  \n759     6 B CHEM1 Romely 97419 La Possession  Réunion  Réunion  \n1061  71 RUE Lieutenant Goinet 97300 Cayenne   Guyane   Guyane  \n1069         8 RTE de Vahibé 97600 Mamoudzou           Koungou  ",
      "text/html": "<div>\n<style scoped>\n    .dataframe tbody tr th:only-of-type {\n        vertical-align: middle;\n    }\n\n    .dataframe tbody tr th {\n        vertical-align: top;\n    }\n\n    .dataframe thead th {\n        text-align: right;\n    }\n</style>\n<table border=\"1\" class=\"dataframe\">\n  <thead>\n    <tr style=\"text-align: right;\">\n      <th></th>\n      <th>id</th>\n      <th>titre</th>\n      <th>objet</th>\n      <th>objet_social1</th>\n      <th>objet_social2</th>\n      <th>adrs_numvoie</th>\n      <th>adrs_typevoie</th>\n      <th>adrs_libvoie</th>\n      <th>adrs_codepostal</th>\n      <th>adrs_libcommune</th>\n      <th>siteweb</th>\n      <th>adrs</th>\n      <th>dept</th>\n      <th>region</th>\n    </tr>\n  </thead>\n  <tbody>\n    <tr>\n      <th>759</th>\n      <td>W9R1005550</td>\n      <td>KAMER OCEAN INDIEN</td>\n      <td>promouvoir l'amitié, la solidarité et la frate...</td>\n      <td>014040</td>\n      <td>007075</td>\n      <td>6 B</td>\n      <td>CHEM1</td>\n      <td>Romely</td>\n      <td>97419</td>\n      <td>La Possession</td>\n      <td>None</td>\n      <td>6 B CHEM1 Romely 97419 La Possession</td>\n      <td>Réunion</td>\n      <td>Réunion</td>\n    </tr>\n    <tr>\n      <th>1061</th>\n      <td>W9C1003716</td>\n      <td>KAMER973-ASSOCIATION DES CAMEROUNAIS DE LA GUYANE</td>\n      <td>permettre aux personnes d'origine camerounaise...</td>\n      <td>014040</td>\n      <td>000000</td>\n      <td>71</td>\n      <td>RUE</td>\n      <td>Lieutenant Goinet</td>\n      <td>97300</td>\n      <td>Cayenne</td>\n      <td>None</td>\n      <td>71 RUE Lieutenant Goinet 97300 Cayenne</td>\n      <td>Guyane</td>\n      <td>Guyane</td>\n    </tr>\n    <tr>\n      <th>1069</th>\n      <td>W9T1002080</td>\n      <td>ASSOCIATIONS DES CAMEROUNAIS DE MAYOTTE (ACAM)</td>\n      <td>rencontre des camerounais résidents ou de pass...</td>\n      <td>014040</td>\n      <td>000000</td>\n      <td>8</td>\n      <td>RTE</td>\n      <td>de Vahibé</td>\n      <td>97600</td>\n      <td>Mamoudzou</td>\n      <td>None</td>\n      <td>8 RTE de Vahibé 97600 Mamoudzou</td>\n      <td></td>\n      <td>Koungou</td>\n    </tr>\n  </tbody>\n</table>\n</div>"
     },
     "metadata": {},
     "output_type": "display_data"
    }
   ],
   "source": [
    "# df3[df3.dept == \"\"]\n",
    "# https://foad-mooc.auf.org/IMG/pdf/2-codes_nationalites-4.pdf\n",
    "# filter DOM/TOM\n",
    "display(df3.loc[ (df3.adrs_codepostal.str.startswith(\"97\") == True) | (df3.adrs_codepostal.str.startswith(\"98\") == True)])\n",
    "df3.loc[df3.id == \"W9T1002080\",\"region\"]= \"Mayotte\"\n",
    "df3.loc[df3.id == \"W9T1002080\", \"dept\"] = \"Mayotte\""
   ],
   "metadata": {
    "collapsed": false,
    "pycharm": {
     "name": "#%%\n"
    }
   }
  },
  {
   "cell_type": "code",
   "execution_count": 74,
   "id": "a14f0524",
   "metadata": {
    "pycharm": {
     "name": "#%%\n"
    }
   },
   "outputs": [
    {
     "data": {
      "text/plain": "              id                                              titre  \\\n0     W751075369                   ASSOCIATION NDOG-NÉM FRANCE ANNF   \n1     W751101199  CERCLE D'ETUDES DES TRADITIONS ET DE LA CULTUR...   \n2     W751105303  LES AMIS DE L'INSTITUT CATHOLIQUE DE YAOUNDE C...   \n3     W751109411  ASSOCIATION DES CHRETIENS DU CAMEROUN POUR LE ...   \n4     W751118437  ASSOCIATION CAMEROUNAISE D'ENTRAIDE DES RESSOR...   \n...          ...                                                ...   \n1066  W051001109  ASSOCIATION DES AMIS DU COLLEGE EVANGELIQUE DE...   \n1067  W052001700                                          AFRICOEUR   \n1068  W2A4000401  ASSOCIATION DE SOUTIEN AUX ENFANTS CAMEROUNAIS...   \n1069  W9T1002080     ASSOCIATIONS DES CAMEROUNAIS DE MAYOTTE (ACAM)   \n1070  W901002017  ASEHCAM - ASSOCIATION POUR LES ENFANTS HANDICA...   \n\n                                                  objet objet_social1  \\\n0     créer et favoriser les contacts le dialogue dv...        014000   \n1     étudier les traditions et la culture camerouna...        020015   \n2     contribuer a la réalisation des objectifs de l...        040000   \n3     réunir, en france comme à l'étranger, au camer...        014035   \n4     être le lieu de rencontre de tous les boh nset...        019000   \n...                                                 ...           ...   \n1066  soutenir le collège evangélique de bangwa (cam...        020015   \n1067  faciliter et promouvoir l'entraide et la solid...        009050   \n1068  association à but humanitaire. elle apporte ai...        020000   \n1069  rencontre des camerounais résidents ou de pass...        014040   \n1070  venir en aide, soutenir et apporter notre sout...        020020   \n\n     objet_social2 adrs_numvoie adrs_typevoie      adrs_libvoie  \\\n0           000000           94           RUE  des Chataigniers   \n1           000000          148            AV          d'Italie   \n2           000000           21           RUE           d'Assas   \n3           000000            4           RUE     de Castellane   \n4           000000            8           RUE     Raymond pitet   \n...            ...          ...           ...               ...   \n1066        000000           17         VILL1            Curial   \n1067        020020         None         CHEM1     de Pré Lacour   \n1068        020020         None          None           Trinité   \n1069        000000            8           RTE         de Vahibé   \n1070        018050           37           RUE   Edouard Herriot   \n\n     adrs_codepostal adrs_libcommune                siteweb  \\\n0              95100      Argenteuil                   None   \n1              75013           Paris                   None   \n2              75006           Paris                   None   \n3              75008           Paris  www.accd-cameroun.org   \n4              75017           Paris                   None   \n...              ...             ...                    ...   \n1066           75019           Paris                   None   \n1067           05140       Aspremont                   None   \n1068           20137   Porto-Vecchio                   None   \n1069           97600       Mamoudzou                   None   \n1070           90000         Belfort                   None   \n\n                                          adrs                   dept  \\\n0     94 RUE des Chataigniers 95100 Argenteuil             Val-d'Oise   \n1                  148 AV d'Italie 75013 Paris                  Paris   \n2                   21 RUE d'Assas 75006 Paris                  Paris   \n3              4 RUE de Castellane 75008 Paris                  Paris   \n4              8 RUE Raymond pitet 75017 Paris                  Paris   \n...                                        ...                    ...   \n1066               17 VILL1 Curial 75019 Paris                  Paris   \n1067       CHEM1 de Pré Lacour 05140 Aspremont           Hautes-Alpes   \n1068               Trinité 20137 Porto-Vecchio           Corse-du-Sud   \n1069           8 RTE de Vahibé 97600 Mamoudzou                Mayotte   \n1070      37 RUE Edouard Herriot 90000 Belfort  Territoire de Belfort   \n\n                          region  \\\n0                  Île-de-France   \n1                  Île-de-France   \n2                  Île-de-France   \n3                  Île-de-France   \n4                  Île-de-France   \n...                          ...   \n1066               Île-de-France   \n1067  Provence-Alpes-Côte d'Azur   \n1068                       Corse   \n1069                     Mayotte   \n1070     Bourgogne-Franche-Comté   \n\n                                 social_object1_libelle  \\\n0     AMICALES, GROUPEMENTS AFFINITAIRES, GROUPEMENT...   \n1     ASSOCIATIONS CARITATIVES, HUMANITAIRES, AIDE A...   \n2     ACTIVITÉS RELIGIEUSES, SPIRITUELLES OU PHILOSO...   \n3     AMICALES, GROUPEMENTS AFFINITAIRES, GROUPEMENT...   \n4                                INTERVENTIONS SOCIALES   \n...                                                 ...   \n1066  ASSOCIATIONS CARITATIVES, HUMANITAIRES, AIDE A...   \n1067                             ACTION SOCIOCULTURELLE   \n1068  ASSOCIATIONS CARITATIVES, HUMANITAIRES, AIDE A...   \n1069  AMICALES, GROUPEMENTS AFFINITAIRES, GROUPEMENT...   \n1070  ASSOCIATIONS CARITATIVES, HUMANITAIRES, AIDE A...   \n\n                                 social_object2_libelle  \n0                                                AUTRES  \n1                                                AUTRES  \n2                                                AUTRES  \n3                                                AUTRES  \n4                                                AUTRES  \n...                                                 ...  \n1066                                             AUTRES  \n1067  ASSOCIATIONS CARITATIVES, HUMANITAIRES, AIDE A...  \n1068  ASSOCIATIONS CARITATIVES, HUMANITAIRES, AIDE A...  \n1069                                             AUTRES  \n1070          SERVICES ET ÉTABLISSEMENTS MÉDICO-SOCIAUX  \n\n[1071 rows x 16 columns]",
      "text/html": "<div>\n<style scoped>\n    .dataframe tbody tr th:only-of-type {\n        vertical-align: middle;\n    }\n\n    .dataframe tbody tr th {\n        vertical-align: top;\n    }\n\n    .dataframe thead th {\n        text-align: right;\n    }\n</style>\n<table border=\"1\" class=\"dataframe\">\n  <thead>\n    <tr style=\"text-align: right;\">\n      <th></th>\n      <th>id</th>\n      <th>titre</th>\n      <th>objet</th>\n      <th>objet_social1</th>\n      <th>objet_social2</th>\n      <th>adrs_numvoie</th>\n      <th>adrs_typevoie</th>\n      <th>adrs_libvoie</th>\n      <th>adrs_codepostal</th>\n      <th>adrs_libcommune</th>\n      <th>siteweb</th>\n      <th>adrs</th>\n      <th>dept</th>\n      <th>region</th>\n      <th>social_object1_libelle</th>\n      <th>social_object2_libelle</th>\n    </tr>\n  </thead>\n  <tbody>\n    <tr>\n      <th>0</th>\n      <td>W751075369</td>\n      <td>ASSOCIATION NDOG-NÉM FRANCE ANNF</td>\n      <td>créer et favoriser les contacts le dialogue dv...</td>\n      <td>014000</td>\n      <td>000000</td>\n      <td>94</td>\n      <td>RUE</td>\n      <td>des Chataigniers</td>\n      <td>95100</td>\n      <td>Argenteuil</td>\n      <td>None</td>\n      <td>94 RUE des Chataigniers 95100 Argenteuil</td>\n      <td>Val-d'Oise</td>\n      <td>Île-de-France</td>\n      <td>AMICALES, GROUPEMENTS AFFINITAIRES, GROUPEMENT...</td>\n      <td>AUTRES</td>\n    </tr>\n    <tr>\n      <th>1</th>\n      <td>W751101199</td>\n      <td>CERCLE D'ETUDES DES TRADITIONS ET DE LA CULTUR...</td>\n      <td>étudier les traditions et la culture camerouna...</td>\n      <td>020015</td>\n      <td>000000</td>\n      <td>148</td>\n      <td>AV</td>\n      <td>d'Italie</td>\n      <td>75013</td>\n      <td>Paris</td>\n      <td>None</td>\n      <td>148 AV d'Italie 75013 Paris</td>\n      <td>Paris</td>\n      <td>Île-de-France</td>\n      <td>ASSOCIATIONS CARITATIVES, HUMANITAIRES, AIDE A...</td>\n      <td>AUTRES</td>\n    </tr>\n    <tr>\n      <th>2</th>\n      <td>W751105303</td>\n      <td>LES AMIS DE L'INSTITUT CATHOLIQUE DE YAOUNDE C...</td>\n      <td>contribuer a la réalisation des objectifs de l...</td>\n      <td>040000</td>\n      <td>000000</td>\n      <td>21</td>\n      <td>RUE</td>\n      <td>d'Assas</td>\n      <td>75006</td>\n      <td>Paris</td>\n      <td>None</td>\n      <td>21 RUE d'Assas 75006 Paris</td>\n      <td>Paris</td>\n      <td>Île-de-France</td>\n      <td>ACTIVITÉS RELIGIEUSES, SPIRITUELLES OU PHILOSO...</td>\n      <td>AUTRES</td>\n    </tr>\n    <tr>\n      <th>3</th>\n      <td>W751109411</td>\n      <td>ASSOCIATION DES CHRETIENS DU CAMEROUN POUR LE ...</td>\n      <td>réunir, en france comme à l'étranger, au camer...</td>\n      <td>014035</td>\n      <td>000000</td>\n      <td>4</td>\n      <td>RUE</td>\n      <td>de Castellane</td>\n      <td>75008</td>\n      <td>Paris</td>\n      <td>www.accd-cameroun.org</td>\n      <td>4 RUE de Castellane 75008 Paris</td>\n      <td>Paris</td>\n      <td>Île-de-France</td>\n      <td>AMICALES, GROUPEMENTS AFFINITAIRES, GROUPEMENT...</td>\n      <td>AUTRES</td>\n    </tr>\n    <tr>\n      <th>4</th>\n      <td>W751118437</td>\n      <td>ASSOCIATION CAMEROUNAISE D'ENTRAIDE DES RESSOR...</td>\n      <td>être le lieu de rencontre de tous les boh nset...</td>\n      <td>019000</td>\n      <td>000000</td>\n      <td>8</td>\n      <td>RUE</td>\n      <td>Raymond pitet</td>\n      <td>75017</td>\n      <td>Paris</td>\n      <td>None</td>\n      <td>8 RUE Raymond pitet 75017 Paris</td>\n      <td>Paris</td>\n      <td>Île-de-France</td>\n      <td>INTERVENTIONS SOCIALES</td>\n      <td>AUTRES</td>\n    </tr>\n    <tr>\n      <th>...</th>\n      <td>...</td>\n      <td>...</td>\n      <td>...</td>\n      <td>...</td>\n      <td>...</td>\n      <td>...</td>\n      <td>...</td>\n      <td>...</td>\n      <td>...</td>\n      <td>...</td>\n      <td>...</td>\n      <td>...</td>\n      <td>...</td>\n      <td>...</td>\n      <td>...</td>\n      <td>...</td>\n    </tr>\n    <tr>\n      <th>1066</th>\n      <td>W051001109</td>\n      <td>ASSOCIATION DES AMIS DU COLLEGE EVANGELIQUE DE...</td>\n      <td>soutenir le collège evangélique de bangwa (cam...</td>\n      <td>020015</td>\n      <td>000000</td>\n      <td>17</td>\n      <td>VILL1</td>\n      <td>Curial</td>\n      <td>75019</td>\n      <td>Paris</td>\n      <td>None</td>\n      <td>17 VILL1 Curial 75019 Paris</td>\n      <td>Paris</td>\n      <td>Île-de-France</td>\n      <td>ASSOCIATIONS CARITATIVES, HUMANITAIRES, AIDE A...</td>\n      <td>AUTRES</td>\n    </tr>\n    <tr>\n      <th>1067</th>\n      <td>W052001700</td>\n      <td>AFRICOEUR</td>\n      <td>faciliter et promouvoir l'entraide et la solid...</td>\n      <td>009050</td>\n      <td>020020</td>\n      <td>None</td>\n      <td>CHEM1</td>\n      <td>de Pré Lacour</td>\n      <td>05140</td>\n      <td>Aspremont</td>\n      <td>None</td>\n      <td>CHEM1 de Pré Lacour 05140 Aspremont</td>\n      <td>Hautes-Alpes</td>\n      <td>Provence-Alpes-Côte d'Azur</td>\n      <td>ACTION SOCIOCULTURELLE</td>\n      <td>ASSOCIATIONS CARITATIVES, HUMANITAIRES, AIDE A...</td>\n    </tr>\n    <tr>\n      <th>1068</th>\n      <td>W2A4000401</td>\n      <td>ASSOCIATION DE SOUTIEN AUX ENFANTS CAMEROUNAIS...</td>\n      <td>association à but humanitaire. elle apporte ai...</td>\n      <td>020000</td>\n      <td>020020</td>\n      <td>None</td>\n      <td>None</td>\n      <td>Trinité</td>\n      <td>20137</td>\n      <td>Porto-Vecchio</td>\n      <td>None</td>\n      <td>Trinité 20137 Porto-Vecchio</td>\n      <td>Corse-du-Sud</td>\n      <td>Corse</td>\n      <td>ASSOCIATIONS CARITATIVES, HUMANITAIRES, AIDE A...</td>\n      <td>ASSOCIATIONS CARITATIVES, HUMANITAIRES, AIDE A...</td>\n    </tr>\n    <tr>\n      <th>1069</th>\n      <td>W9T1002080</td>\n      <td>ASSOCIATIONS DES CAMEROUNAIS DE MAYOTTE (ACAM)</td>\n      <td>rencontre des camerounais résidents ou de pass...</td>\n      <td>014040</td>\n      <td>000000</td>\n      <td>8</td>\n      <td>RTE</td>\n      <td>de Vahibé</td>\n      <td>97600</td>\n      <td>Mamoudzou</td>\n      <td>None</td>\n      <td>8 RTE de Vahibé 97600 Mamoudzou</td>\n      <td>Mayotte</td>\n      <td>Mayotte</td>\n      <td>AMICALES, GROUPEMENTS AFFINITAIRES, GROUPEMENT...</td>\n      <td>AUTRES</td>\n    </tr>\n    <tr>\n      <th>1070</th>\n      <td>W901002017</td>\n      <td>ASEHCAM - ASSOCIATION POUR LES ENFANTS HANDICA...</td>\n      <td>venir en aide, soutenir et apporter notre sout...</td>\n      <td>020020</td>\n      <td>018050</td>\n      <td>37</td>\n      <td>RUE</td>\n      <td>Edouard Herriot</td>\n      <td>90000</td>\n      <td>Belfort</td>\n      <td>None</td>\n      <td>37 RUE Edouard Herriot 90000 Belfort</td>\n      <td>Territoire de Belfort</td>\n      <td>Bourgogne-Franche-Comté</td>\n      <td>ASSOCIATIONS CARITATIVES, HUMANITAIRES, AIDE A...</td>\n      <td>SERVICES ET ÉTABLISSEMENTS MÉDICO-SOCIAUX</td>\n    </tr>\n  </tbody>\n</table>\n<p>1071 rows × 16 columns</p>\n</div>"
     },
     "execution_count": 74,
     "metadata": {},
     "output_type": "execute_result"
    }
   ],
   "source": [
    "import pandas as pd\n",
    "waldec_csv = pd.read_csv('rna-nomenclature-waldec.csv', delimiter=\";\",\n",
    "                         index_col=2).to_dict()[\"Libellé objet social parent\"]\n",
    "# pprint(waldec_csv)\n",
    "waldec_csv[00000] = \"AUTRES\"\n",
    "waldec_csv[19060] = \"INTERVENTIONS SOCIALES\"\n",
    "waldec_csv[22010] = \"REPRÉSENTATION, PROMOTION ET DÉFENSE D'INTÉRÊTS ÉCONOMIQUES\"\n",
    "waldec_csv[6035]  = \"CULTURE, PRATIQUES D'ACTIVITÉS ARTISTIQUES, PRATIQUES CULTURELLES\"\n",
    "waldec_csv[40510] = \"ACTIVITÉS RELIGIEUSES, SPIRITUELLES OU PHILOSOPHIQUES\"\n",
    "waldec_csv[17035] = \"SANTÉ\"\n",
    "\n",
    "df3['social_object1_libelle'] = df3.apply(lambda row: waldec_csv[int(row[\"objet_social1\"] or 0)], axis=1)\n",
    "df3['social_object2_libelle'] = df3.apply(lambda row: waldec_csv[int(row[\"objet_social2\"] or 0)], axis=1)\n",
    "df3"
   ]
  },
  {
   "cell_type": "code",
   "execution_count": 75,
   "id": "ade0c7df",
   "metadata": {
    "pycharm": {
     "name": "#%%\n"
    }
   },
   "outputs": [
    {
     "data": {
      "text/plain": "VBox(children=(HBox(children=(IntProgress(value=0, description='0.00%', max=179), Label(value='0 / 179'))), HB…",
      "application/vnd.jupyter.widget-view+json": {
       "version_major": 2,
       "version_minor": 0,
       "model_id": "8a8671ebc7924c29989afc8c372c3dd2"
      }
     },
     "metadata": {},
     "output_type": "display_data"
    },
    {
     "data": {
      "text/plain": "              id                                              titre  \\\n0     W751075369                   ASSOCIATION NDOG-NÉM FRANCE ANNF   \n1     W751101199  CERCLE D'ETUDES DES TRADITIONS ET DE LA CULTUR...   \n2     W751105303  LES AMIS DE L'INSTITUT CATHOLIQUE DE YAOUNDE C...   \n3     W751109411  ASSOCIATION DES CHRETIENS DU CAMEROUN POUR LE ...   \n4     W751118437  ASSOCIATION CAMEROUNAISE D'ENTRAIDE DES RESSOR...   \n...          ...                                                ...   \n1066  W051001109  ASSOCIATION DES AMIS DU COLLEGE EVANGELIQUE DE...   \n1067  W052001700                                          AFRICOEUR   \n1068  W2A4000401  ASSOCIATION DE SOUTIEN AUX ENFANTS CAMEROUNAIS...   \n1069  W9T1002080     ASSOCIATIONS DES CAMEROUNAIS DE MAYOTTE (ACAM)   \n1070  W901002017  ASEHCAM - ASSOCIATION POUR LES ENFANTS HANDICA...   \n\n                                                  objet objet_social1  \\\n0     créer et favoriser les contacts le dialogue dv...        014000   \n1     étudier les traditions et la culture camerouna...        020015   \n2     contribuer a la réalisation des objectifs de l...        040000   \n3     réunir, en france comme à l'étranger, au camer...        014035   \n4     être le lieu de rencontre de tous les boh nset...        019000   \n...                                                 ...           ...   \n1066  soutenir le collège evangélique de bangwa (cam...        020015   \n1067  faciliter et promouvoir l'entraide et la solid...        009050   \n1068  association à but humanitaire. elle apporte ai...        020000   \n1069  rencontre des camerounais résidents ou de pass...        014040   \n1070  venir en aide, soutenir et apporter notre sout...        020020   \n\n     objet_social2 adrs_numvoie adrs_typevoie      adrs_libvoie  \\\n0           000000           94           RUE  des Chataigniers   \n1           000000          148            AV          d'Italie   \n2           000000           21           RUE           d'Assas   \n3           000000            4           RUE     de Castellane   \n4           000000            8           RUE     Raymond pitet   \n...            ...          ...           ...               ...   \n1066        000000           17         VILL1            Curial   \n1067        020020         None         CHEM1     de Pré Lacour   \n1068        020020         None          None           Trinité   \n1069        000000            8           RTE         de Vahibé   \n1070        018050           37           RUE   Edouard Herriot   \n\n     adrs_codepostal adrs_libcommune                siteweb  \\\n0              95100      Argenteuil                   None   \n1              75013           Paris                   None   \n2              75006           Paris                   None   \n3              75008           Paris  www.accd-cameroun.org   \n4              75017           Paris                   None   \n...              ...             ...                    ...   \n1066           75019           Paris                   None   \n1067           05140       Aspremont                   None   \n1068           20137   Porto-Vecchio                   None   \n1069           97600       Mamoudzou                   None   \n1070           90000         Belfort                   None   \n\n                                          adrs                   dept  \\\n0     94 RUE des Chataigniers 95100 Argenteuil             Val-d'Oise   \n1                  148 AV d'Italie 75013 Paris                  Paris   \n2                   21 RUE d'Assas 75006 Paris                  Paris   \n3              4 RUE de Castellane 75008 Paris                  Paris   \n4              8 RUE Raymond pitet 75017 Paris                  Paris   \n...                                        ...                    ...   \n1066               17 VILL1 Curial 75019 Paris                  Paris   \n1067       CHEM1 de Pré Lacour 05140 Aspremont           Hautes-Alpes   \n1068               Trinité 20137 Porto-Vecchio           Corse-du-Sud   \n1069           8 RTE de Vahibé 97600 Mamoudzou                Mayotte   \n1070      37 RUE Edouard Herriot 90000 Belfort  Territoire de Belfort   \n\n                          region  \\\n0                  Île-de-France   \n1                  Île-de-France   \n2                  Île-de-France   \n3                  Île-de-France   \n4                  Île-de-France   \n...                          ...   \n1066               Île-de-France   \n1067  Provence-Alpes-Côte d'Azur   \n1068                       Corse   \n1069                     Mayotte   \n1070     Bourgogne-Franche-Comté   \n\n                                 social_object1_libelle  \\\n0     AMICALES, GROUPEMENTS AFFINITAIRES, GROUPEMENT...   \n1     ASSOCIATIONS CARITATIVES, HUMANITAIRES, AIDE A...   \n2     ACTIVITÉS RELIGIEUSES, SPIRITUELLES OU PHILOSO...   \n3     AMICALES, GROUPEMENTS AFFINITAIRES, GROUPEMENT...   \n4                                INTERVENTIONS SOCIALES   \n...                                                 ...   \n1066  ASSOCIATIONS CARITATIVES, HUMANITAIRES, AIDE A...   \n1067                             ACTION SOCIOCULTURELLE   \n1068  ASSOCIATIONS CARITATIVES, HUMANITAIRES, AIDE A...   \n1069  AMICALES, GROUPEMENTS AFFINITAIRES, GROUPEMENT...   \n1070  ASSOCIATIONS CARITATIVES, HUMANITAIRES, AIDE A...   \n\n                                 social_object2_libelle  \\\n0                                                AUTRES   \n1                                                AUTRES   \n2                                                AUTRES   \n3                                                AUTRES   \n4                                                AUTRES   \n...                                                 ...   \n1066                                             AUTRES   \n1067  ASSOCIATIONS CARITATIVES, HUMANITAIRES, AIDE A...   \n1068  ASSOCIATIONS CARITATIVES, HUMANITAIRES, AIDE A...   \n1069                                             AUTRES   \n1070          SERVICES ET ÉTABLISSEMENTS MÉDICO-SOCIAUX   \n\n                                                geocode  \n0     (Rue des Châtaigniers, Argenteuil, Val-d'Oise,...  \n1     (148, Avenue d'Italie, Quartier de la Maison-B...  \n2     (21, Rue d'Assas, Quartier Notre-Dame-des-Cham...  \n3     (4, Rue de Castellane, Quartier de la Madelein...  \n4     (8, Rue Raymond Pitet, Quartier de la Plaine-d...  \n...                                                 ...  \n1066                                               None  \n1067                                               None  \n1068  (Vulco, T 10, Tenda, Trinité de Porto Vecchio,...  \n1069  (Route de Vahibe, Passamainty, Mamoudzou, Mayo...  \n1070  (37, Rue Édouard Herriot, Le Mont, Barres Le M...  \n\n[1071 rows x 17 columns]",
      "text/html": "<div>\n<style scoped>\n    .dataframe tbody tr th:only-of-type {\n        vertical-align: middle;\n    }\n\n    .dataframe tbody tr th {\n        vertical-align: top;\n    }\n\n    .dataframe thead th {\n        text-align: right;\n    }\n</style>\n<table border=\"1\" class=\"dataframe\">\n  <thead>\n    <tr style=\"text-align: right;\">\n      <th></th>\n      <th>id</th>\n      <th>titre</th>\n      <th>objet</th>\n      <th>objet_social1</th>\n      <th>objet_social2</th>\n      <th>adrs_numvoie</th>\n      <th>adrs_typevoie</th>\n      <th>adrs_libvoie</th>\n      <th>adrs_codepostal</th>\n      <th>adrs_libcommune</th>\n      <th>siteweb</th>\n      <th>adrs</th>\n      <th>dept</th>\n      <th>region</th>\n      <th>social_object1_libelle</th>\n      <th>social_object2_libelle</th>\n      <th>geocode</th>\n    </tr>\n  </thead>\n  <tbody>\n    <tr>\n      <th>0</th>\n      <td>W751075369</td>\n      <td>ASSOCIATION NDOG-NÉM FRANCE ANNF</td>\n      <td>créer et favoriser les contacts le dialogue dv...</td>\n      <td>014000</td>\n      <td>000000</td>\n      <td>94</td>\n      <td>RUE</td>\n      <td>des Chataigniers</td>\n      <td>95100</td>\n      <td>Argenteuil</td>\n      <td>None</td>\n      <td>94 RUE des Chataigniers 95100 Argenteuil</td>\n      <td>Val-d'Oise</td>\n      <td>Île-de-France</td>\n      <td>AMICALES, GROUPEMENTS AFFINITAIRES, GROUPEMENT...</td>\n      <td>AUTRES</td>\n      <td>(Rue des Châtaigniers, Argenteuil, Val-d'Oise,...</td>\n    </tr>\n    <tr>\n      <th>1</th>\n      <td>W751101199</td>\n      <td>CERCLE D'ETUDES DES TRADITIONS ET DE LA CULTUR...</td>\n      <td>étudier les traditions et la culture camerouna...</td>\n      <td>020015</td>\n      <td>000000</td>\n      <td>148</td>\n      <td>AV</td>\n      <td>d'Italie</td>\n      <td>75013</td>\n      <td>Paris</td>\n      <td>None</td>\n      <td>148 AV d'Italie 75013 Paris</td>\n      <td>Paris</td>\n      <td>Île-de-France</td>\n      <td>ASSOCIATIONS CARITATIVES, HUMANITAIRES, AIDE A...</td>\n      <td>AUTRES</td>\n      <td>(148, Avenue d'Italie, Quartier de la Maison-B...</td>\n    </tr>\n    <tr>\n      <th>2</th>\n      <td>W751105303</td>\n      <td>LES AMIS DE L'INSTITUT CATHOLIQUE DE YAOUNDE C...</td>\n      <td>contribuer a la réalisation des objectifs de l...</td>\n      <td>040000</td>\n      <td>000000</td>\n      <td>21</td>\n      <td>RUE</td>\n      <td>d'Assas</td>\n      <td>75006</td>\n      <td>Paris</td>\n      <td>None</td>\n      <td>21 RUE d'Assas 75006 Paris</td>\n      <td>Paris</td>\n      <td>Île-de-France</td>\n      <td>ACTIVITÉS RELIGIEUSES, SPIRITUELLES OU PHILOSO...</td>\n      <td>AUTRES</td>\n      <td>(21, Rue d'Assas, Quartier Notre-Dame-des-Cham...</td>\n    </tr>\n    <tr>\n      <th>3</th>\n      <td>W751109411</td>\n      <td>ASSOCIATION DES CHRETIENS DU CAMEROUN POUR LE ...</td>\n      <td>réunir, en france comme à l'étranger, au camer...</td>\n      <td>014035</td>\n      <td>000000</td>\n      <td>4</td>\n      <td>RUE</td>\n      <td>de Castellane</td>\n      <td>75008</td>\n      <td>Paris</td>\n      <td>www.accd-cameroun.org</td>\n      <td>4 RUE de Castellane 75008 Paris</td>\n      <td>Paris</td>\n      <td>Île-de-France</td>\n      <td>AMICALES, GROUPEMENTS AFFINITAIRES, GROUPEMENT...</td>\n      <td>AUTRES</td>\n      <td>(4, Rue de Castellane, Quartier de la Madelein...</td>\n    </tr>\n    <tr>\n      <th>4</th>\n      <td>W751118437</td>\n      <td>ASSOCIATION CAMEROUNAISE D'ENTRAIDE DES RESSOR...</td>\n      <td>être le lieu de rencontre de tous les boh nset...</td>\n      <td>019000</td>\n      <td>000000</td>\n      <td>8</td>\n      <td>RUE</td>\n      <td>Raymond pitet</td>\n      <td>75017</td>\n      <td>Paris</td>\n      <td>None</td>\n      <td>8 RUE Raymond pitet 75017 Paris</td>\n      <td>Paris</td>\n      <td>Île-de-France</td>\n      <td>INTERVENTIONS SOCIALES</td>\n      <td>AUTRES</td>\n      <td>(8, Rue Raymond Pitet, Quartier de la Plaine-d...</td>\n    </tr>\n    <tr>\n      <th>...</th>\n      <td>...</td>\n      <td>...</td>\n      <td>...</td>\n      <td>...</td>\n      <td>...</td>\n      <td>...</td>\n      <td>...</td>\n      <td>...</td>\n      <td>...</td>\n      <td>...</td>\n      <td>...</td>\n      <td>...</td>\n      <td>...</td>\n      <td>...</td>\n      <td>...</td>\n      <td>...</td>\n      <td>...</td>\n    </tr>\n    <tr>\n      <th>1066</th>\n      <td>W051001109</td>\n      <td>ASSOCIATION DES AMIS DU COLLEGE EVANGELIQUE DE...</td>\n      <td>soutenir le collège evangélique de bangwa (cam...</td>\n      <td>020015</td>\n      <td>000000</td>\n      <td>17</td>\n      <td>VILL1</td>\n      <td>Curial</td>\n      <td>75019</td>\n      <td>Paris</td>\n      <td>None</td>\n      <td>17 VILL1 Curial 75019 Paris</td>\n      <td>Paris</td>\n      <td>Île-de-France</td>\n      <td>ASSOCIATIONS CARITATIVES, HUMANITAIRES, AIDE A...</td>\n      <td>AUTRES</td>\n      <td>None</td>\n    </tr>\n    <tr>\n      <th>1067</th>\n      <td>W052001700</td>\n      <td>AFRICOEUR</td>\n      <td>faciliter et promouvoir l'entraide et la solid...</td>\n      <td>009050</td>\n      <td>020020</td>\n      <td>None</td>\n      <td>CHEM1</td>\n      <td>de Pré Lacour</td>\n      <td>05140</td>\n      <td>Aspremont</td>\n      <td>None</td>\n      <td>CHEM1 de Pré Lacour 05140 Aspremont</td>\n      <td>Hautes-Alpes</td>\n      <td>Provence-Alpes-Côte d'Azur</td>\n      <td>ACTION SOCIOCULTURELLE</td>\n      <td>ASSOCIATIONS CARITATIVES, HUMANITAIRES, AIDE A...</td>\n      <td>None</td>\n    </tr>\n    <tr>\n      <th>1068</th>\n      <td>W2A4000401</td>\n      <td>ASSOCIATION DE SOUTIEN AUX ENFANTS CAMEROUNAIS...</td>\n      <td>association à but humanitaire. elle apporte ai...</td>\n      <td>020000</td>\n      <td>020020</td>\n      <td>None</td>\n      <td>None</td>\n      <td>Trinité</td>\n      <td>20137</td>\n      <td>Porto-Vecchio</td>\n      <td>None</td>\n      <td>Trinité 20137 Porto-Vecchio</td>\n      <td>Corse-du-Sud</td>\n      <td>Corse</td>\n      <td>ASSOCIATIONS CARITATIVES, HUMANITAIRES, AIDE A...</td>\n      <td>ASSOCIATIONS CARITATIVES, HUMANITAIRES, AIDE A...</td>\n      <td>(Vulco, T 10, Tenda, Trinité de Porto Vecchio,...</td>\n    </tr>\n    <tr>\n      <th>1069</th>\n      <td>W9T1002080</td>\n      <td>ASSOCIATIONS DES CAMEROUNAIS DE MAYOTTE (ACAM)</td>\n      <td>rencontre des camerounais résidents ou de pass...</td>\n      <td>014040</td>\n      <td>000000</td>\n      <td>8</td>\n      <td>RTE</td>\n      <td>de Vahibé</td>\n      <td>97600</td>\n      <td>Mamoudzou</td>\n      <td>None</td>\n      <td>8 RTE de Vahibé 97600 Mamoudzou</td>\n      <td>Mayotte</td>\n      <td>Mayotte</td>\n      <td>AMICALES, GROUPEMENTS AFFINITAIRES, GROUPEMENT...</td>\n      <td>AUTRES</td>\n      <td>(Route de Vahibe, Passamainty, Mamoudzou, Mayo...</td>\n    </tr>\n    <tr>\n      <th>1070</th>\n      <td>W901002017</td>\n      <td>ASEHCAM - ASSOCIATION POUR LES ENFANTS HANDICA...</td>\n      <td>venir en aide, soutenir et apporter notre sout...</td>\n      <td>020020</td>\n      <td>018050</td>\n      <td>37</td>\n      <td>RUE</td>\n      <td>Edouard Herriot</td>\n      <td>90000</td>\n      <td>Belfort</td>\n      <td>None</td>\n      <td>37 RUE Edouard Herriot 90000 Belfort</td>\n      <td>Territoire de Belfort</td>\n      <td>Bourgogne-Franche-Comté</td>\n      <td>ASSOCIATIONS CARITATIVES, HUMANITAIRES, AIDE A...</td>\n      <td>SERVICES ET ÉTABLISSEMENTS MÉDICO-SOCIAUX</td>\n      <td>(37, Rue Édouard Herriot, Le Mont, Barres Le M...</td>\n    </tr>\n  </tbody>\n</table>\n<p>1071 rows × 17 columns</p>\n</div>"
     },
     "execution_count": 75,
     "metadata": {},
     "output_type": "execute_result"
    }
   ],
   "source": [
    "from geopy.geocoders import Nominatim\n",
    "geolocator = Nominatim(user_agent=\"acute.mongulu.cm\")\n",
    "\n",
    "def geocode(adrs):\n",
    "   location = geolocator.geocode(adrs,country_codes=\"fr\",timeout=None)\n",
    "   return location\n",
    "\n",
    "df3['geocode'] = df3.parallel_apply(lambda row: geocode(row[\"adrs\"]), axis=1)\n",
    "df3"
   ]
  },
  {
   "cell_type": "code",
   "execution_count": 76,
   "outputs": [
    {
     "data": {
      "text/plain": "              id                                              titre  \\\n18    W751200732                      BAZOU GENERAL DE FRANCE (BGF)   \n22    W751201224   ASSOCIATION DES ARTISTES DES MONTAGNES - ASARMON   \n29    W751204269  (AFCAR) ASSOCIATION FRANCO-CAMEROUNAISE D'AIDE...   \n32    W751205161  ASSOCIATION FRANCO - CAMEROUNAISE POUR LE DEVE...   \n49    W751216714                                   AMOUR & FIDELITE   \n...          ...                                                ...   \n1043  W613001327                                 ZARRO - LE GRENIER   \n1045  W652000630  EXARCHAT FRANCAIS DE L'EGLISE CATHOLIQUE ET  A...   \n1054  W191002040                 ASSOCIATION CAMEROUN BRAILLE (ACB)   \n1066  W051001109  ASSOCIATION DES AMIS DU COLLEGE EVANGELIQUE DE...   \n1067  W052001700                                          AFRICOEUR   \n\n                                                  objet objet_social1  \\\n18    promouvoir l'union , l'entraide, l'entente et ...        014045   \n22    promouvoir par enseignements et par exhibition...        006040   \n29    mise en place d'un dispositif effectif et effi...        014040   \n32    filtre matriciel et guichet unique dans le por...        014045   \n49    réunir les ressortissants camerounais et sympa...        014040   \n...                                                 ...           ...   \n1043  accompagner humainement, socialement, techniqu...        020005   \n1045  aide spirituelle par therapie de l'ame pour ce...        040000   \n1054  aider les déficients visuels à surmonter leur ...        003030   \n1066  soutenir le collège evangélique de bangwa (cam...        020015   \n1067  faciliter et promouvoir l'entraide et la solid...        009050   \n\n     objet_social2 adrs_numvoie adrs_typevoie              adrs_libvoie  \\\n18          000000            3           RES              le Gai Logis   \n22          000000           28           RUE          de Chaufourniers   \n29          030000           50         CHEM1  de Montval à la Montagne   \n32          000000           50         CHEM1  de Montval à la Montagne   \n49          014035           15           RUE             Saint Quentin   \n...            ...          ...           ...                       ...   \n1043        000000           11          None             L'hôtel Veron   \n1045        000000         None           RTE               de l'église   \n1054        000000            2            PL               de l'Église   \n1066        000000           17         VILL1                    Curial   \n1067        020020         None         CHEM1             de Pré Lacour   \n\n     adrs_codepostal        adrs_libcommune siteweb  \\\n18             93350             Le Bourget    None   \n22             75019                  Paris    None   \n29             78160           Marly-le-Roi    None   \n32             78160           Marly-le-Roi    None   \n49             75010                  Paris    None   \n...              ...                    ...     ...   \n1043           61290   Saint-Victor-de-Réno    None   \n1045           65250  La    Barthe-de-Neste    None   \n1054           19270         Sainte-Féréole    None   \n1066           75019                  Paris    None   \n1067           05140              Aspremont    None   \n\n                                                   adrs               dept  \\\n18                  3 RES le Gai Logis 93350 Le Bourget  Seine-Saint-Denis   \n22                  28 RUE de Chaufourniers 75019 Paris              Paris   \n29    50 CHEM1 de Montval à la Montagne 78160 Marly-...           Yvelines   \n32    50 CHEM1 de Montval à la Montagne 78160 Marly-...           Yvelines   \n49                     15 RUE Saint Quentin 75010 Paris              Paris   \n...                                                 ...                ...   \n1043        11 L'hôtel Veron 61290 Saint-Victor-de-Réno               Orne   \n1045        RTE de l'église 65250 La    Barthe-de-Neste    Hautes-Pyrénées   \n1054              2 PL de l'Église 19270 Sainte-Féréole            Corrèze   \n1066                        17 VILL1 Curial 75019 Paris              Paris   \n1067                CHEM1 de Pré Lacour 05140 Aspremont       Hautes-Alpes   \n\n                          region  \\\n18                 Île-de-France   \n22                 Île-de-France   \n29                 Île-de-France   \n32                 Île-de-France   \n49                 Île-de-France   \n...                          ...   \n1043                   Normandie   \n1045                   Occitanie   \n1054          Nouvelle-Aquitaine   \n1066               Île-de-France   \n1067  Provence-Alpes-Côte d'Azur   \n\n                                 social_object1_libelle  \\\n18    AMICALES, GROUPEMENTS AFFINITAIRES, GROUPEMENT...   \n22    CULTURE, PRATIQUES D'ACTIVITÉS ARTISTIQUES, PR...   \n29    AMICALES, GROUPEMENTS AFFINITAIRES, GROUPEMENT...   \n32    AMICALES, GROUPEMENTS AFFINITAIRES, GROUPEMENT...   \n49    AMICALES, GROUPEMENTS AFFINITAIRES, GROUPEMENT...   \n...                                                 ...   \n1043  ASSOCIATIONS CARITATIVES, HUMANITAIRES, AIDE A...   \n1045  ACTIVITÉS RELIGIEUSES, SPIRITUELLES OU PHILOSO...   \n1054  DÉFENSE DE DROITS FONDAMENTAUX, ACTIVITÉS CIVI...   \n1066  ASSOCIATIONS CARITATIVES, HUMANITAIRES, AIDE A...   \n1067                             ACTION SOCIOCULTURELLE   \n\n                                 social_object2_libelle geocode  \n18                                               AUTRES    None  \n22                                               AUTRES    None  \n29    AIDE À L'EMPLOI, DÉVELOPPEMENT LOCAL, PROMOTIO...    None  \n32                                               AUTRES    None  \n49    AMICALES, GROUPEMENTS AFFINITAIRES, GROUPEMENT...    None  \n...                                                 ...     ...  \n1043                                             AUTRES    None  \n1045                                             AUTRES    None  \n1054                                             AUTRES    None  \n1066                                             AUTRES    None  \n1067  ASSOCIATIONS CARITATIVES, HUMANITAIRES, AIDE A...    None  \n\n[177 rows x 17 columns]",
      "text/html": "<div>\n<style scoped>\n    .dataframe tbody tr th:only-of-type {\n        vertical-align: middle;\n    }\n\n    .dataframe tbody tr th {\n        vertical-align: top;\n    }\n\n    .dataframe thead th {\n        text-align: right;\n    }\n</style>\n<table border=\"1\" class=\"dataframe\">\n  <thead>\n    <tr style=\"text-align: right;\">\n      <th></th>\n      <th>id</th>\n      <th>titre</th>\n      <th>objet</th>\n      <th>objet_social1</th>\n      <th>objet_social2</th>\n      <th>adrs_numvoie</th>\n      <th>adrs_typevoie</th>\n      <th>adrs_libvoie</th>\n      <th>adrs_codepostal</th>\n      <th>adrs_libcommune</th>\n      <th>siteweb</th>\n      <th>adrs</th>\n      <th>dept</th>\n      <th>region</th>\n      <th>social_object1_libelle</th>\n      <th>social_object2_libelle</th>\n      <th>geocode</th>\n    </tr>\n  </thead>\n  <tbody>\n    <tr>\n      <th>18</th>\n      <td>W751200732</td>\n      <td>BAZOU GENERAL DE FRANCE (BGF)</td>\n      <td>promouvoir l'union , l'entraide, l'entente et ...</td>\n      <td>014045</td>\n      <td>000000</td>\n      <td>3</td>\n      <td>RES</td>\n      <td>le Gai Logis</td>\n      <td>93350</td>\n      <td>Le Bourget</td>\n      <td>None</td>\n      <td>3 RES le Gai Logis 93350 Le Bourget</td>\n      <td>Seine-Saint-Denis</td>\n      <td>Île-de-France</td>\n      <td>AMICALES, GROUPEMENTS AFFINITAIRES, GROUPEMENT...</td>\n      <td>AUTRES</td>\n      <td>None</td>\n    </tr>\n    <tr>\n      <th>22</th>\n      <td>W751201224</td>\n      <td>ASSOCIATION DES ARTISTES DES MONTAGNES - ASARMON</td>\n      <td>promouvoir par enseignements et par exhibition...</td>\n      <td>006040</td>\n      <td>000000</td>\n      <td>28</td>\n      <td>RUE</td>\n      <td>de Chaufourniers</td>\n      <td>75019</td>\n      <td>Paris</td>\n      <td>None</td>\n      <td>28 RUE de Chaufourniers 75019 Paris</td>\n      <td>Paris</td>\n      <td>Île-de-France</td>\n      <td>CULTURE, PRATIQUES D'ACTIVITÉS ARTISTIQUES, PR...</td>\n      <td>AUTRES</td>\n      <td>None</td>\n    </tr>\n    <tr>\n      <th>29</th>\n      <td>W751204269</td>\n      <td>(AFCAR) ASSOCIATION FRANCO-CAMEROUNAISE D'AIDE...</td>\n      <td>mise en place d'un dispositif effectif et effi...</td>\n      <td>014040</td>\n      <td>030000</td>\n      <td>50</td>\n      <td>CHEM1</td>\n      <td>de Montval à la Montagne</td>\n      <td>78160</td>\n      <td>Marly-le-Roi</td>\n      <td>None</td>\n      <td>50 CHEM1 de Montval à la Montagne 78160 Marly-...</td>\n      <td>Yvelines</td>\n      <td>Île-de-France</td>\n      <td>AMICALES, GROUPEMENTS AFFINITAIRES, GROUPEMENT...</td>\n      <td>AIDE À L'EMPLOI, DÉVELOPPEMENT LOCAL, PROMOTIO...</td>\n      <td>None</td>\n    </tr>\n    <tr>\n      <th>32</th>\n      <td>W751205161</td>\n      <td>ASSOCIATION FRANCO - CAMEROUNAISE POUR LE DEVE...</td>\n      <td>filtre matriciel et guichet unique dans le por...</td>\n      <td>014045</td>\n      <td>000000</td>\n      <td>50</td>\n      <td>CHEM1</td>\n      <td>de Montval à la Montagne</td>\n      <td>78160</td>\n      <td>Marly-le-Roi</td>\n      <td>None</td>\n      <td>50 CHEM1 de Montval à la Montagne 78160 Marly-...</td>\n      <td>Yvelines</td>\n      <td>Île-de-France</td>\n      <td>AMICALES, GROUPEMENTS AFFINITAIRES, GROUPEMENT...</td>\n      <td>AUTRES</td>\n      <td>None</td>\n    </tr>\n    <tr>\n      <th>49</th>\n      <td>W751216714</td>\n      <td>AMOUR &amp; FIDELITE</td>\n      <td>réunir les ressortissants camerounais et sympa...</td>\n      <td>014040</td>\n      <td>014035</td>\n      <td>15</td>\n      <td>RUE</td>\n      <td>Saint Quentin</td>\n      <td>75010</td>\n      <td>Paris</td>\n      <td>None</td>\n      <td>15 RUE Saint Quentin 75010 Paris</td>\n      <td>Paris</td>\n      <td>Île-de-France</td>\n      <td>AMICALES, GROUPEMENTS AFFINITAIRES, GROUPEMENT...</td>\n      <td>AMICALES, GROUPEMENTS AFFINITAIRES, GROUPEMENT...</td>\n      <td>None</td>\n    </tr>\n    <tr>\n      <th>...</th>\n      <td>...</td>\n      <td>...</td>\n      <td>...</td>\n      <td>...</td>\n      <td>...</td>\n      <td>...</td>\n      <td>...</td>\n      <td>...</td>\n      <td>...</td>\n      <td>...</td>\n      <td>...</td>\n      <td>...</td>\n      <td>...</td>\n      <td>...</td>\n      <td>...</td>\n      <td>...</td>\n      <td>...</td>\n    </tr>\n    <tr>\n      <th>1043</th>\n      <td>W613001327</td>\n      <td>ZARRO - LE GRENIER</td>\n      <td>accompagner humainement, socialement, techniqu...</td>\n      <td>020005</td>\n      <td>000000</td>\n      <td>11</td>\n      <td>None</td>\n      <td>L'hôtel Veron</td>\n      <td>61290</td>\n      <td>Saint-Victor-de-Réno</td>\n      <td>None</td>\n      <td>11 L'hôtel Veron 61290 Saint-Victor-de-Réno</td>\n      <td>Orne</td>\n      <td>Normandie</td>\n      <td>ASSOCIATIONS CARITATIVES, HUMANITAIRES, AIDE A...</td>\n      <td>AUTRES</td>\n      <td>None</td>\n    </tr>\n    <tr>\n      <th>1045</th>\n      <td>W652000630</td>\n      <td>EXARCHAT FRANCAIS DE L'EGLISE CATHOLIQUE ET  A...</td>\n      <td>aide spirituelle par therapie de l'ame pour ce...</td>\n      <td>040000</td>\n      <td>000000</td>\n      <td>None</td>\n      <td>RTE</td>\n      <td>de l'église</td>\n      <td>65250</td>\n      <td>La    Barthe-de-Neste</td>\n      <td>None</td>\n      <td>RTE de l'église 65250 La    Barthe-de-Neste</td>\n      <td>Hautes-Pyrénées</td>\n      <td>Occitanie</td>\n      <td>ACTIVITÉS RELIGIEUSES, SPIRITUELLES OU PHILOSO...</td>\n      <td>AUTRES</td>\n      <td>None</td>\n    </tr>\n    <tr>\n      <th>1054</th>\n      <td>W191002040</td>\n      <td>ASSOCIATION CAMEROUN BRAILLE (ACB)</td>\n      <td>aider les déficients visuels à surmonter leur ...</td>\n      <td>003030</td>\n      <td>000000</td>\n      <td>2</td>\n      <td>PL</td>\n      <td>de l'Église</td>\n      <td>19270</td>\n      <td>Sainte-Féréole</td>\n      <td>None</td>\n      <td>2 PL de l'Église 19270 Sainte-Féréole</td>\n      <td>Corrèze</td>\n      <td>Nouvelle-Aquitaine</td>\n      <td>DÉFENSE DE DROITS FONDAMENTAUX, ACTIVITÉS CIVI...</td>\n      <td>AUTRES</td>\n      <td>None</td>\n    </tr>\n    <tr>\n      <th>1066</th>\n      <td>W051001109</td>\n      <td>ASSOCIATION DES AMIS DU COLLEGE EVANGELIQUE DE...</td>\n      <td>soutenir le collège evangélique de bangwa (cam...</td>\n      <td>020015</td>\n      <td>000000</td>\n      <td>17</td>\n      <td>VILL1</td>\n      <td>Curial</td>\n      <td>75019</td>\n      <td>Paris</td>\n      <td>None</td>\n      <td>17 VILL1 Curial 75019 Paris</td>\n      <td>Paris</td>\n      <td>Île-de-France</td>\n      <td>ASSOCIATIONS CARITATIVES, HUMANITAIRES, AIDE A...</td>\n      <td>AUTRES</td>\n      <td>None</td>\n    </tr>\n    <tr>\n      <th>1067</th>\n      <td>W052001700</td>\n      <td>AFRICOEUR</td>\n      <td>faciliter et promouvoir l'entraide et la solid...</td>\n      <td>009050</td>\n      <td>020020</td>\n      <td>None</td>\n      <td>CHEM1</td>\n      <td>de Pré Lacour</td>\n      <td>05140</td>\n      <td>Aspremont</td>\n      <td>None</td>\n      <td>CHEM1 de Pré Lacour 05140 Aspremont</td>\n      <td>Hautes-Alpes</td>\n      <td>Provence-Alpes-Côte d'Azur</td>\n      <td>ACTION SOCIOCULTURELLE</td>\n      <td>ASSOCIATIONS CARITATIVES, HUMANITAIRES, AIDE A...</td>\n      <td>None</td>\n    </tr>\n  </tbody>\n</table>\n<p>177 rows × 17 columns</p>\n</div>"
     },
     "execution_count": 76,
     "metadata": {},
     "output_type": "execute_result"
    }
   ],
   "source": [
    "df3[df3.geocode.isnull()] # 176 rows n'ont pas de géocodage"
   ],
   "metadata": {
    "collapsed": false,
    "pycharm": {
     "name": "#%%\n"
    }
   }
  },
  {
   "cell_type": "code",
   "execution_count": 77,
   "outputs": [
    {
     "data": {
      "text/plain": "Empty DataFrame\nColumns: [id, titre, objet, objet_social1, objet_social2, adrs_numvoie, adrs_typevoie, adrs_libvoie, adrs_codepostal, adrs_libcommune, siteweb, adrs, dept, region, social_object1_libelle, social_object2_libelle, geocode]\nIndex: []",
      "text/html": "<div>\n<style scoped>\n    .dataframe tbody tr th:only-of-type {\n        vertical-align: middle;\n    }\n\n    .dataframe tbody tr th {\n        vertical-align: top;\n    }\n\n    .dataframe thead th {\n        text-align: right;\n    }\n</style>\n<table border=\"1\" class=\"dataframe\">\n  <thead>\n    <tr style=\"text-align: right;\">\n      <th></th>\n      <th>id</th>\n      <th>titre</th>\n      <th>objet</th>\n      <th>objet_social1</th>\n      <th>objet_social2</th>\n      <th>adrs_numvoie</th>\n      <th>adrs_typevoie</th>\n      <th>adrs_libvoie</th>\n      <th>adrs_codepostal</th>\n      <th>adrs_libcommune</th>\n      <th>siteweb</th>\n      <th>adrs</th>\n      <th>dept</th>\n      <th>region</th>\n      <th>social_object1_libelle</th>\n      <th>social_object2_libelle</th>\n      <th>geocode</th>\n    </tr>\n  </thead>\n  <tbody>\n  </tbody>\n</table>\n</div>"
     },
     "execution_count": 77,
     "metadata": {},
     "output_type": "execute_result"
    }
   ],
   "source": [
    "df3[df3.adrs_libcommune.isnull()] # mais aucune n'a le nom de la commune vide donc ce sera ça qui sera utilisé"
   ],
   "metadata": {
    "collapsed": false,
    "pycharm": {
     "name": "#%%\n"
    }
   }
  },
  {
   "cell_type": "code",
   "execution_count": 78,
   "outputs": [
    {
     "name": "stderr",
     "output_type": "stream",
     "text": [
      "100%|████████████████████████████████████████████████████████████████████████████████████████████████████████████████████████████████████████████████| 177/177 [00:00<00:00, 367.95it/s]\n"
     ]
    }
   ],
   "source": [
    "from tqdm import tqdm\n",
    "tqdm.pandas()\n",
    "df3.loc[df3.geocode.isnull(),\"geocode\"] = df3[df3.geocode.isnull()].progress_apply(lambda row: geocode(row[\"adrs_libcommune\"]), axis=1)"
   ],
   "metadata": {
    "collapsed": false,
    "pycharm": {
     "name": "#%%\n"
    }
   }
  },
  {
   "cell_type": "code",
   "execution_count": 79,
   "outputs": [
    {
     "data": {
      "text/plain": "             id                                   titre  \\\n967  W251002897  ETUDIANTS CAMEROUNAIS DE FRANCHE-COMTE   \n\n                                                 objet objet_social1  \\\n967  réunir les étudiants camerounais de franche-co...        015065   \n\n    objet_social2 adrs_numvoie adrs_typevoie       adrs_libvoie  \\\n967        014040         36 A            AV  de l'Observatoire   \n\n    adrs_codepostal adrs_libcommune siteweb  \\\n967           25030  Besançon Cédex    None   \n\n                                               adrs   dept  \\\n967  36 A AV de l'Observatoire 25030 Besançon Cédex  Doubs   \n\n                      region social_object1_libelle  \\\n967  Bourgogne-Franche-Comté   ÉDUCATION  FORMATION   \n\n                                social_object2_libelle geocode  \n967  AMICALES, GROUPEMENTS AFFINITAIRES, GROUPEMENT...    None  ",
      "text/html": "<div>\n<style scoped>\n    .dataframe tbody tr th:only-of-type {\n        vertical-align: middle;\n    }\n\n    .dataframe tbody tr th {\n        vertical-align: top;\n    }\n\n    .dataframe thead th {\n        text-align: right;\n    }\n</style>\n<table border=\"1\" class=\"dataframe\">\n  <thead>\n    <tr style=\"text-align: right;\">\n      <th></th>\n      <th>id</th>\n      <th>titre</th>\n      <th>objet</th>\n      <th>objet_social1</th>\n      <th>objet_social2</th>\n      <th>adrs_numvoie</th>\n      <th>adrs_typevoie</th>\n      <th>adrs_libvoie</th>\n      <th>adrs_codepostal</th>\n      <th>adrs_libcommune</th>\n      <th>siteweb</th>\n      <th>adrs</th>\n      <th>dept</th>\n      <th>region</th>\n      <th>social_object1_libelle</th>\n      <th>social_object2_libelle</th>\n      <th>geocode</th>\n    </tr>\n  </thead>\n  <tbody>\n    <tr>\n      <th>967</th>\n      <td>W251002897</td>\n      <td>ETUDIANTS CAMEROUNAIS DE FRANCHE-COMTE</td>\n      <td>réunir les étudiants camerounais de franche-co...</td>\n      <td>015065</td>\n      <td>014040</td>\n      <td>36 A</td>\n      <td>AV</td>\n      <td>de l'Observatoire</td>\n      <td>25030</td>\n      <td>Besançon Cédex</td>\n      <td>None</td>\n      <td>36 A AV de l'Observatoire 25030 Besançon Cédex</td>\n      <td>Doubs</td>\n      <td>Bourgogne-Franche-Comté</td>\n      <td>ÉDUCATION  FORMATION</td>\n      <td>AMICALES, GROUPEMENTS AFFINITAIRES, GROUPEMENT...</td>\n      <td>None</td>\n    </tr>\n  </tbody>\n</table>\n</div>"
     },
     "execution_count": 79,
     "metadata": {},
     "output_type": "execute_result"
    }
   ],
   "source": [
    "df3[df3.geocode.isnull()] # il reste une asso à Besancon Cedex ui est pas reconnu, on va le faire avec Besançon"
   ],
   "metadata": {
    "collapsed": false,
    "pycharm": {
     "name": "#%%\n"
    }
   }
  },
  {
   "cell_type": "code",
   "execution_count": 80,
   "outputs": [
    {
     "name": "stderr",
     "output_type": "stream",
     "text": [
      "100%|████████████████████████████████████████████████████████████████████████████████████████████████████████████████████████████████████████████████████| 1/1 [00:00<00:00, 254.82it/s]\n"
     ]
    }
   ],
   "source": [
    "df3.loc[df3.id == \"W251002897\",\"geocode\"] = df3[df3.geocode.isnull()].progress_apply(lambda row: geocode(\"Besançon\"), axis=1)"
   ],
   "metadata": {
    "collapsed": false,
    "pycharm": {
     "name": "#%%\n"
    }
   }
  },
  {
   "cell_type": "code",
   "execution_count": 81,
   "outputs": [
    {
     "name": "stderr",
     "output_type": "stream",
     "text": [
      "100%|███████████████████████████████████████████████████████████████████████████████████████████████████████████████████████████████████████████| 1071/1071 [00:00<00:00, 284346.09it/s]\n",
      "100%|███████████████████████████████████████████████████████████████████████████████████████████████████████████████████████████████████████████| 1071/1071 [00:00<00:00, 410050.17it/s]\n"
     ]
    }
   ],
   "source": [
    "df3['longitude'] = df3['geocode'].progress_apply(lambda x: x.longitude)\n",
    "df3['latitude'] = df3['geocode'].progress_apply(lambda x: x.latitude)\n",
    "df3 = df3.drop(columns=[\"objet_social1\",\"objet_social2\",\"geocode\"])\n",
    "df3.to_csv(\"ref-rna-real-mars-2022.csv\")"
   ],
   "metadata": {
    "collapsed": false,
    "pycharm": {
     "name": "#%%\n"
    }
   }
  },
  {
   "cell_type": "code",
   "execution_count": 82,
   "outputs": [
    {
     "name": "stderr",
     "output_type": "stream",
     "text": [
      "/home/bafou/.local/share/virtualenvs/data-mvNqHXNW/lib/python3.8/site-packages/pyproj/crs/crs.py:131: FutureWarning: '+init=<authority>:<code>' syntax is deprecated. '<authority>:<code>' is the preferred initialization method. When making the change, be mindful of axis order changes: https://pyproj4.github.io/pyproj/stable/gotchas.html#axis-order-changes-in-proj-6\n",
      "  in_crs_string = _prepare_from_proj_string(in_crs_string)\n",
      "/home/bafou/.local/share/virtualenvs/data-mvNqHXNW/lib/python3.8/site-packages/geopandas/io/file.py:362: FutureWarning: pandas.Int64Index is deprecated and will be removed from pandas in a future version. Use pandas.Index with the appropriate dtype instead.\n",
      "  pd.Int64Index,\n"
     ]
    }
   ],
   "source": [
    "from geopandas import GeoDataFrame\n",
    "from shapely.geometry import Point\n",
    "\n",
    "gdf = GeoDataFrame(\n",
    "    df3.drop(['longitude', 'latitude','adrs'], axis=1),\n",
    "    crs={'init': 'epsg:4326'},\n",
    "    geometry=[Point(xy) for xy in zip(df3.longitude, df3.latitude)])\n",
    "gdf.to_file(\"ref-rna-real-mars-2022.geojson\", driver=\"GeoJSON\")"
   ],
   "metadata": {
    "collapsed": false,
    "pycharm": {
     "name": "#%%\n"
    }
   }
  },
  {
   "cell_type": "code",
   "execution_count": 83,
   "outputs": [
    {
     "data": {
      "text/plain": "              id                                              titre  \\\n0     W751075369                   ASSOCIATION NDOG-NÉM FRANCE ANNF   \n1     W751101199  CERCLE D'ETUDES DES TRADITIONS ET DE LA CULTUR...   \n2     W751105303  LES AMIS DE L'INSTITUT CATHOLIQUE DE YAOUNDE C...   \n3     W751109411  ASSOCIATION DES CHRETIENS DU CAMEROUN POUR LE ...   \n4     W751118437  ASSOCIATION CAMEROUNAISE D'ENTRAIDE DES RESSOR...   \n...          ...                                                ...   \n1066  W051001109  ASSOCIATION DES AMIS DU COLLEGE EVANGELIQUE DE...   \n1067  W052001700                                          AFRICOEUR   \n1068  W2A4000401  ASSOCIATION DE SOUTIEN AUX ENFANTS CAMEROUNAIS...   \n1069  W9T1002080     ASSOCIATIONS DES CAMEROUNAIS DE MAYOTTE (ACAM)   \n1070  W901002017  ASEHCAM - ASSOCIATION POUR LES ENFANTS HANDICA...   \n\n                                                  objet adrs_numvoie  \\\n0     créer et favoriser les contacts le dialogue dv...           94   \n1     étudier les traditions et la culture camerouna...          148   \n2     contribuer a la réalisation des objectifs de l...           21   \n3     réunir, en france comme à l'étranger, au camer...            4   \n4     être le lieu de rencontre de tous les boh nset...            8   \n...                                                 ...          ...   \n1066  soutenir le collège evangélique de bangwa (cam...           17   \n1067  faciliter et promouvoir l'entraide et la solid...         None   \n1068  association à but humanitaire. elle apporte ai...         None   \n1069  rencontre des camerounais résidents ou de pass...            8   \n1070  venir en aide, soutenir et apporter notre sout...           37   \n\n     adrs_typevoie      adrs_libvoie adrs_codepostal adrs_libcommune  \\\n0              RUE  des Chataigniers           95100      Argenteuil   \n1               AV          d'Italie           75013           Paris   \n2              RUE           d'Assas           75006           Paris   \n3              RUE     de Castellane           75008           Paris   \n4              RUE     Raymond pitet           75017           Paris   \n...            ...               ...             ...             ...   \n1066         VILL1            Curial           75019           Paris   \n1067         CHEM1     de Pré Lacour           05140       Aspremont   \n1068          None           Trinité           20137   Porto-Vecchio   \n1069           RTE         de Vahibé           97600       Mamoudzou   \n1070           RUE   Edouard Herriot           90000         Belfort   \n\n                    siteweb                                      adrs  \\\n0                      None  94 RUE des Chataigniers 95100 Argenteuil   \n1                      None               148 AV d'Italie 75013 Paris   \n2                      None                21 RUE d'Assas 75006 Paris   \n3     www.accd-cameroun.org           4 RUE de Castellane 75008 Paris   \n4                      None           8 RUE Raymond pitet 75017 Paris   \n...                     ...                                       ...   \n1066                   None               17 VILL1 Curial 75019 Paris   \n1067                   None       CHEM1 de Pré Lacour 05140 Aspremont   \n1068                   None               Trinité 20137 Porto-Vecchio   \n1069                   None           8 RTE de Vahibé 97600 Mamoudzou   \n1070                   None      37 RUE Edouard Herriot 90000 Belfort   \n\n                       dept                      region  \\\n0                Val-d'Oise               Île-de-France   \n1                     Paris               Île-de-France   \n2                     Paris               Île-de-France   \n3                     Paris               Île-de-France   \n4                     Paris               Île-de-France   \n...                     ...                         ...   \n1066                  Paris               Île-de-France   \n1067           Hautes-Alpes  Provence-Alpes-Côte d'Azur   \n1068           Corse-du-Sud                       Corse   \n1069                Mayotte                     Mayotte   \n1070  Territoire de Belfort     Bourgogne-Franche-Comté   \n\n                                 social_object1_libelle  \\\n0     AMICALES, GROUPEMENTS AFFINITAIRES, GROUPEMENT...   \n1     ASSOCIATIONS CARITATIVES, HUMANITAIRES, AIDE A...   \n2     ACTIVITÉS RELIGIEUSES, SPIRITUELLES OU PHILOSO...   \n3     AMICALES, GROUPEMENTS AFFINITAIRES, GROUPEMENT...   \n4                                INTERVENTIONS SOCIALES   \n...                                                 ...   \n1066  ASSOCIATIONS CARITATIVES, HUMANITAIRES, AIDE A...   \n1067                             ACTION SOCIOCULTURELLE   \n1068  ASSOCIATIONS CARITATIVES, HUMANITAIRES, AIDE A...   \n1069  AMICALES, GROUPEMENTS AFFINITAIRES, GROUPEMENT...   \n1070  ASSOCIATIONS CARITATIVES, HUMANITAIRES, AIDE A...   \n\n                                 social_object2_libelle  longitude   latitude  \n0                                                AUTRES   2.252414  48.957136  \n1                                                AUTRES   2.358093  48.822629  \n2                                                AUTRES   2.329349  48.848296  \n3                                                AUTRES   2.325549  48.872239  \n4                                                AUTRES   2.296784  48.889935  \n...                                                 ...        ...        ...  \n1066                                             AUTRES   2.320041  48.858890  \n1067  ASSOCIATIONS CARITATIVES, HUMANITAIRES, AIDE A...   7.244088  43.783272  \n1068  ASSOCIATIONS CARITATIVES, HUMANITAIRES, AIDE A...   9.280628  41.615288  \n1069                                             AUTRES  45.213623 -12.802677  \n1070          SERVICES ET ÉTABLISSEMENTS MÉDICO-SOCIAUX   6.831830  47.643182  \n\n[1071 rows x 16 columns]",
      "text/html": "<div>\n<style scoped>\n    .dataframe tbody tr th:only-of-type {\n        vertical-align: middle;\n    }\n\n    .dataframe tbody tr th {\n        vertical-align: top;\n    }\n\n    .dataframe thead th {\n        text-align: right;\n    }\n</style>\n<table border=\"1\" class=\"dataframe\">\n  <thead>\n    <tr style=\"text-align: right;\">\n      <th></th>\n      <th>id</th>\n      <th>titre</th>\n      <th>objet</th>\n      <th>adrs_numvoie</th>\n      <th>adrs_typevoie</th>\n      <th>adrs_libvoie</th>\n      <th>adrs_codepostal</th>\n      <th>adrs_libcommune</th>\n      <th>siteweb</th>\n      <th>adrs</th>\n      <th>dept</th>\n      <th>region</th>\n      <th>social_object1_libelle</th>\n      <th>social_object2_libelle</th>\n      <th>longitude</th>\n      <th>latitude</th>\n    </tr>\n  </thead>\n  <tbody>\n    <tr>\n      <th>0</th>\n      <td>W751075369</td>\n      <td>ASSOCIATION NDOG-NÉM FRANCE ANNF</td>\n      <td>créer et favoriser les contacts le dialogue dv...</td>\n      <td>94</td>\n      <td>RUE</td>\n      <td>des Chataigniers</td>\n      <td>95100</td>\n      <td>Argenteuil</td>\n      <td>None</td>\n      <td>94 RUE des Chataigniers 95100 Argenteuil</td>\n      <td>Val-d'Oise</td>\n      <td>Île-de-France</td>\n      <td>AMICALES, GROUPEMENTS AFFINITAIRES, GROUPEMENT...</td>\n      <td>AUTRES</td>\n      <td>2.252414</td>\n      <td>48.957136</td>\n    </tr>\n    <tr>\n      <th>1</th>\n      <td>W751101199</td>\n      <td>CERCLE D'ETUDES DES TRADITIONS ET DE LA CULTUR...</td>\n      <td>étudier les traditions et la culture camerouna...</td>\n      <td>148</td>\n      <td>AV</td>\n      <td>d'Italie</td>\n      <td>75013</td>\n      <td>Paris</td>\n      <td>None</td>\n      <td>148 AV d'Italie 75013 Paris</td>\n      <td>Paris</td>\n      <td>Île-de-France</td>\n      <td>ASSOCIATIONS CARITATIVES, HUMANITAIRES, AIDE A...</td>\n      <td>AUTRES</td>\n      <td>2.358093</td>\n      <td>48.822629</td>\n    </tr>\n    <tr>\n      <th>2</th>\n      <td>W751105303</td>\n      <td>LES AMIS DE L'INSTITUT CATHOLIQUE DE YAOUNDE C...</td>\n      <td>contribuer a la réalisation des objectifs de l...</td>\n      <td>21</td>\n      <td>RUE</td>\n      <td>d'Assas</td>\n      <td>75006</td>\n      <td>Paris</td>\n      <td>None</td>\n      <td>21 RUE d'Assas 75006 Paris</td>\n      <td>Paris</td>\n      <td>Île-de-France</td>\n      <td>ACTIVITÉS RELIGIEUSES, SPIRITUELLES OU PHILOSO...</td>\n      <td>AUTRES</td>\n      <td>2.329349</td>\n      <td>48.848296</td>\n    </tr>\n    <tr>\n      <th>3</th>\n      <td>W751109411</td>\n      <td>ASSOCIATION DES CHRETIENS DU CAMEROUN POUR LE ...</td>\n      <td>réunir, en france comme à l'étranger, au camer...</td>\n      <td>4</td>\n      <td>RUE</td>\n      <td>de Castellane</td>\n      <td>75008</td>\n      <td>Paris</td>\n      <td>www.accd-cameroun.org</td>\n      <td>4 RUE de Castellane 75008 Paris</td>\n      <td>Paris</td>\n      <td>Île-de-France</td>\n      <td>AMICALES, GROUPEMENTS AFFINITAIRES, GROUPEMENT...</td>\n      <td>AUTRES</td>\n      <td>2.325549</td>\n      <td>48.872239</td>\n    </tr>\n    <tr>\n      <th>4</th>\n      <td>W751118437</td>\n      <td>ASSOCIATION CAMEROUNAISE D'ENTRAIDE DES RESSOR...</td>\n      <td>être le lieu de rencontre de tous les boh nset...</td>\n      <td>8</td>\n      <td>RUE</td>\n      <td>Raymond pitet</td>\n      <td>75017</td>\n      <td>Paris</td>\n      <td>None</td>\n      <td>8 RUE Raymond pitet 75017 Paris</td>\n      <td>Paris</td>\n      <td>Île-de-France</td>\n      <td>INTERVENTIONS SOCIALES</td>\n      <td>AUTRES</td>\n      <td>2.296784</td>\n      <td>48.889935</td>\n    </tr>\n    <tr>\n      <th>...</th>\n      <td>...</td>\n      <td>...</td>\n      <td>...</td>\n      <td>...</td>\n      <td>...</td>\n      <td>...</td>\n      <td>...</td>\n      <td>...</td>\n      <td>...</td>\n      <td>...</td>\n      <td>...</td>\n      <td>...</td>\n      <td>...</td>\n      <td>...</td>\n      <td>...</td>\n      <td>...</td>\n    </tr>\n    <tr>\n      <th>1066</th>\n      <td>W051001109</td>\n      <td>ASSOCIATION DES AMIS DU COLLEGE EVANGELIQUE DE...</td>\n      <td>soutenir le collège evangélique de bangwa (cam...</td>\n      <td>17</td>\n      <td>VILL1</td>\n      <td>Curial</td>\n      <td>75019</td>\n      <td>Paris</td>\n      <td>None</td>\n      <td>17 VILL1 Curial 75019 Paris</td>\n      <td>Paris</td>\n      <td>Île-de-France</td>\n      <td>ASSOCIATIONS CARITATIVES, HUMANITAIRES, AIDE A...</td>\n      <td>AUTRES</td>\n      <td>2.320041</td>\n      <td>48.858890</td>\n    </tr>\n    <tr>\n      <th>1067</th>\n      <td>W052001700</td>\n      <td>AFRICOEUR</td>\n      <td>faciliter et promouvoir l'entraide et la solid...</td>\n      <td>None</td>\n      <td>CHEM1</td>\n      <td>de Pré Lacour</td>\n      <td>05140</td>\n      <td>Aspremont</td>\n      <td>None</td>\n      <td>CHEM1 de Pré Lacour 05140 Aspremont</td>\n      <td>Hautes-Alpes</td>\n      <td>Provence-Alpes-Côte d'Azur</td>\n      <td>ACTION SOCIOCULTURELLE</td>\n      <td>ASSOCIATIONS CARITATIVES, HUMANITAIRES, AIDE A...</td>\n      <td>7.244088</td>\n      <td>43.783272</td>\n    </tr>\n    <tr>\n      <th>1068</th>\n      <td>W2A4000401</td>\n      <td>ASSOCIATION DE SOUTIEN AUX ENFANTS CAMEROUNAIS...</td>\n      <td>association à but humanitaire. elle apporte ai...</td>\n      <td>None</td>\n      <td>None</td>\n      <td>Trinité</td>\n      <td>20137</td>\n      <td>Porto-Vecchio</td>\n      <td>None</td>\n      <td>Trinité 20137 Porto-Vecchio</td>\n      <td>Corse-du-Sud</td>\n      <td>Corse</td>\n      <td>ASSOCIATIONS CARITATIVES, HUMANITAIRES, AIDE A...</td>\n      <td>ASSOCIATIONS CARITATIVES, HUMANITAIRES, AIDE A...</td>\n      <td>9.280628</td>\n      <td>41.615288</td>\n    </tr>\n    <tr>\n      <th>1069</th>\n      <td>W9T1002080</td>\n      <td>ASSOCIATIONS DES CAMEROUNAIS DE MAYOTTE (ACAM)</td>\n      <td>rencontre des camerounais résidents ou de pass...</td>\n      <td>8</td>\n      <td>RTE</td>\n      <td>de Vahibé</td>\n      <td>97600</td>\n      <td>Mamoudzou</td>\n      <td>None</td>\n      <td>8 RTE de Vahibé 97600 Mamoudzou</td>\n      <td>Mayotte</td>\n      <td>Mayotte</td>\n      <td>AMICALES, GROUPEMENTS AFFINITAIRES, GROUPEMENT...</td>\n      <td>AUTRES</td>\n      <td>45.213623</td>\n      <td>-12.802677</td>\n    </tr>\n    <tr>\n      <th>1070</th>\n      <td>W901002017</td>\n      <td>ASEHCAM - ASSOCIATION POUR LES ENFANTS HANDICA...</td>\n      <td>venir en aide, soutenir et apporter notre sout...</td>\n      <td>37</td>\n      <td>RUE</td>\n      <td>Edouard Herriot</td>\n      <td>90000</td>\n      <td>Belfort</td>\n      <td>None</td>\n      <td>37 RUE Edouard Herriot 90000 Belfort</td>\n      <td>Territoire de Belfort</td>\n      <td>Bourgogne-Franche-Comté</td>\n      <td>ASSOCIATIONS CARITATIVES, HUMANITAIRES, AIDE A...</td>\n      <td>SERVICES ET ÉTABLISSEMENTS MÉDICO-SOCIAUX</td>\n      <td>6.831830</td>\n      <td>47.643182</td>\n    </tr>\n  </tbody>\n</table>\n<p>1071 rows × 16 columns</p>\n</div>"
     },
     "execution_count": 83,
     "metadata": {},
     "output_type": "execute_result"
    }
   ],
   "source": [
    "df3"
   ],
   "metadata": {
    "collapsed": false,
    "pycharm": {
     "name": "#%%\n"
    }
   }
  },
  {
   "cell_type": "code",
   "execution_count": null,
   "outputs": [],
   "source": [],
   "metadata": {
    "collapsed": false,
    "pycharm": {
     "name": "#%%\n"
    }
   }
  }
 ],
 "metadata": {
  "kernelspec": {
   "display_name": "data",
   "language": "python",
   "name": "data"
  },
  "language_info": {
   "codemirror_mode": {
    "name": "ipython",
    "version": 3
   },
   "file_extension": ".py",
   "mimetype": "text/x-python",
   "name": "python",
   "nbconvert_exporter": "python",
   "pygments_lexer": "ipython3",
   "version": "3.8.10"
  }
 },
 "nbformat": 4,
 "nbformat_minor": 5
}