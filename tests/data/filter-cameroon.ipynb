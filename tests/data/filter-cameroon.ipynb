{
 "cells": [
  {
   "cell_type": "code",
   "execution_count": 1,
   "id": "ac7e8194-2dad-46e4-b6c2-c2593947ae89",
   "metadata": {},
   "outputs": [
    {
     "name": "stderr",
     "output_type": "stream",
     "text": [
      "22/03/17 22:42:52 WARN Utils: Your hostname, DESKTOP-3481LPC resolves to a loopback address: 127.0.1.1; using 172.21.11.8 instead (on interface eth0)\n",
      "22/03/17 22:42:52 WARN Utils: Set SPARK_LOCAL_IP if you need to bind to another address\n",
      "WARNING: An illegal reflective access operation has occurred\n",
      "WARNING: Illegal reflective access by org.apache.spark.unsafe.Platform (file:/home/bafou/.local/share/virtualenvs/data-mvNqHXNW/lib/python3.8/site-packages/pyspark/jars/spark-unsafe_2.12-3.2.1.jar) to constructor java.nio.DirectByteBuffer(long,int)\n",
      "WARNING: Please consider reporting this to the maintainers of org.apache.spark.unsafe.Platform\n",
      "WARNING: Use --illegal-access=warn to enable warnings of further illegal reflective access operations\n",
      "WARNING: All illegal access operations will be denied in a future release\n",
      "Using Spark's default log4j profile: org/apache/spark/log4j-defaults.properties\n",
      "Setting default log level to \"WARN\".\n",
      "To adjust logging level use sc.setLogLevel(newLevel). For SparkR, use setLogLevel(newLevel).\n",
      "22/03/17 22:42:53 WARN NativeCodeLoader: Unable to load native-hadoop library for your platform... using builtin-java classes where applicable\n"
     ]
    }
   ],
   "source": [
    "## CSV Files downloaded from https://www.data.gouv.fr/fr/datasets/repertoire-national-des-associations/  Fichier RNA Waldec du 01 Mars 2022\n",
    "\n",
    "import findspark\n",
    "findspark.init()\n",
    "from pyspark import SparkContext\n",
    "sc = SparkContext(appName=\"LIst of associations\")"
   ]
  },
  {
   "cell_type": "code",
   "execution_count": 68,
   "id": "efa0548a-26e7-4077-b260-48045b03d0e8",
   "metadata": {},
   "outputs": [
    {
     "name": "stdout",
     "output_type": "stream",
     "text": [
      "+----------+------+-----+------+-------+----------+----------+----------+----------+------+----------+--------------------+--------------------+--------------------+-------------+-------------+---------------+------------+---------------+-------------+----------------+------------+--------------+---------------+--------------------+--------------+--------------+---------------+--------------------+------------+---------------+--------------------+---------+------------+-------+--------+--------------------+--------+-------------------+\n",
      "|        id| id_ex|siret|rup_mi|gestion|date_creat|date_decla|date_publi|date_disso|nature|groupement|               titre|         titre_court|               objet|objet_social1|objet_social2|adrs_complement|adrs_numvoie|adrs_repetition|adrs_typevoie|    adrs_libvoie|adrs_distrib|adrs_codeinsee|adrs_codepostal|     adrs_libcommune|adrg_declarant|adrg_complemid|adrg_complemgeo|        adrg_libvoie|adrg_distrib|adrg_codepostal|       adrg_achemine|adrg_pays|dir_civilite|siteweb|publiweb|         observation|position|           maj_time|\n",
      "+----------+------+-----+------+-------+----------+----------+----------+----------+------+----------+--------------------+--------------------+--------------------+-------------+-------------+---------------+------------+---------------+-------------+----------------+------------+--------------+---------------+--------------------+--------------+--------------+---------------+--------------------+------------+---------------+--------------------+---------+------------+-------+--------+--------------------+--------+-------------------+\n",
      "|W751000001|125609| null|  null|   751P|1996-05-22|2012-01-26|1996-06-19|0001-01-01|     D|         S|               AVIVA|               AVIVA|dispenser  à domi...|       019004|       000000|           null|          42|           null|          RUE|     Le Peletier|           _|         75109|          75009|               Paris|          null|          null|           null| 42  RUE LE PELETIER|        null|          75009|               PARIS|   FRANCE|          TM|   null|       1|Numéro RNA déjà p...|       A|2012-02-27 10:48:48|\n",
      "|W751000002|     2| null|  null|   751P|1947-02-15|2017-07-20|1947-03-11|0001-01-01|     D|         S|SOCIETE AMICALE E...|     SOCIETE AMICALE|établir entre tou...|       014000|       000000|      LE BOYARD|         117|           null|           AV|     Félix Faure|           _|         75115|          75015|               Paris|          null|          null|      LE BOYARD|117  AVENUE FéLIX...|        null|          75015|               PARIS|   FRANCE|          PM|   null|       1|                null|       A|2018-09-03 12:36:20|\n",
      "|W751000005|     5| null|  null|   412S|2002-05-03|2014-12-09|2002-06-08|2014-11-15|     D|         S|             ZAGRAPH|             ZAGRAPH|association de pl...|       005020|       000000|           null|           5|           null|          IMP|du Vieux Château|           _|         41279|          41800|Villedieu-le-Château|          null|          null|           null|5  IMPASSE DU VIE...|        null|          41800|VILLEDIEU-LE-CHÂTEAU|   FRANCE|          PL|   null|       1|                null|       D|2014-12-22 13:38:51|\n",
      "|W751000006|     6| null|  null|   543P|2006-08-04|2007-05-31|0001-01-01|0001-01-01|     D|         S|            ECHOS DD|            ECHOS DD|Relais d'initiati...|       010000|       000000|           null|           9|           null|          RUE|   Gustave Petit|           _|         54395|          54000|               Nancy|          null|          null|           null|9  RUE GUSTAVE PETIT|        null|          54000|               NANCY|   FRANCE|          PF|   null|       1|                null|       A|2009-09-15 14:27:56|\n",
      "|W751000007|     7| null|  null|   131S|2007-12-11|2011-06-22|2008-01-05|2011-06-03|     D|         S|ÉOLIADES, LECTURE...|EOLIADES, LECTURE...|création de spect...|       006010|       000000|           null|          12|           null|          RUE|       Duperrier|           _|         13001|          13100|     Aix-en-Provence|          null|          null|           null|59 AVENUE SIMON B...|        null|          75019|               PARIS|   FRANCE|          PM|   null|       1|DISSOLUTION BTE 1...|       D|2011-07-20 08:02:06|\n",
      "+----------+------+-----+------+-------+----------+----------+----------+----------+------+----------+--------------------+--------------------+--------------------+-------------+-------------+---------------+------------+---------------+-------------+----------------+------------+--------------+---------------+--------------------+--------------+--------------+---------------+--------------------+------------+---------------+--------------------+---------+------------+-------+--------+--------------------+--------+-------------------+\n",
      "only showing top 5 rows\n",
      "\n"
     ]
    },
    {
     "name": "stderr",
     "output_type": "stream",
     "text": [
      "                                                                                \r"
     ]
    },
    {
     "data": {
      "text/plain": "2119460"
     },
     "execution_count": 68,
     "metadata": {},
     "output_type": "execute_result"
    }
   ],
   "source": [
    "from pyspark.sql import SparkSession\n",
    "spark = SparkSession \\\n",
    "    .builder \\\n",
    "    .appName(\"how to read csv file\") \\\n",
    "    .getOrCreate()\n",
    "\n",
    "file_location = \"/mnt/d/Projects/mongulu/acu-te/tests/data/rna_waldec_20220301/\"\n",
    "file_type = \"csv\"\n",
    "\n",
    "# CSV options\n",
    "infer_schema = \"false\"\n",
    "first_row_is_header = \"true\"\n",
    "delimiter = \";\"\n",
    "\n",
    "# The applied options are for CSV files. For other file types, these will be ignored.\n",
    "df = spark.read.format(file_type) \\\n",
    "  .option(\"inferSchema\", infer_schema) \\\n",
    "  .option(\"header\", first_row_is_header) \\\n",
    "  .option(\"sep\", delimiter) \\\n",
    "  .option(\"encoding\", \"ISO-8859-1\") \\\n",
    "  .load(file_location)\n",
    "\n",
    "df.show(5)\n",
    "df.count()"
   ]
  },
  {
   "cell_type": "code",
   "execution_count": 48,
   "outputs": [
    {
     "data": {
      "text/plain": "['id',\n 'id_ex',\n 'siret',\n 'rup_mi',\n 'gestion',\n 'date_creat',\n 'date_decla',\n 'date_publi',\n 'date_disso',\n 'nature',\n 'groupement',\n 'titre',\n 'titre_court',\n 'objet',\n 'objet_social1',\n 'objet_social2',\n 'adrs_complement',\n 'adrs_numvoie',\n 'adrs_repetition',\n 'adrs_typevoie',\n 'adrs_libvoie',\n 'adrs_distrib',\n 'adrs_codeinsee',\n 'adrs_codepostal',\n 'adrs_libcommune',\n 'adrg_declarant',\n 'adrg_complemid',\n 'adrg_complemgeo',\n 'adrg_libvoie',\n 'adrg_distrib',\n 'adrg_codepostal',\n 'adrg_achemine',\n 'adrg_pays',\n 'dir_civilite',\n 'siteweb',\n 'publiweb',\n 'observation',\n 'position',\n 'maj_time']"
     },
     "execution_count": 48,
     "metadata": {},
     "output_type": "execute_result"
    }
   ],
   "source": [
    "df.columns"
   ],
   "metadata": {
    "collapsed": false,
    "pycharm": {
     "name": "#%%\n"
    }
   }
  },
  {
   "cell_type": "code",
   "id": "5b098c99",
   "metadata": {
    "pycharm": {
     "name": "#%%\n"
    }
   },
   "source": [
    "from pyspark.sql.functions import col,lower,upper\n",
    "\n",
    "# fix enconding with https://github.com/rspeer/python-ftfy in case not well written\n",
    "df2 = df.withColumn(\"titre\",upper(col(\"titre\")))\\\n",
    "  .withColumn(\"objet\",lower(col(\"objet\")))\\\n",
    "  .select(\"titre\", \"objet\", \"objet_social1\",\"objet_social2\",\"adrs_numvoie\",\"adrs_typevoie\",\"adrs_libvoie\",\"adrs_codepostal\",\"adrs_libcommune\",  \"siteweb\") \\\n",
    "  .filter(df.titre.contains(\"CAMEROUN\") | df.objet.contains(\"cameroun\") )\n",
    "\n",
    "df2.show()\n",
    "df2.count()"
   ],
   "execution_count": null,
   "outputs": []
  },
  {
   "cell_type": "code",
   "execution_count": 71,
   "outputs": [
    {
     "name": "stderr",
     "output_type": "stream",
     "text": [
      "                                                                                \r"
     ]
    }
   ],
   "source": [
    "# Print files to CSV\n",
    "df2.toPandas().to_csv(\"ref-rna-real-mars-2022.csv\")"
   ],
   "metadata": {
    "collapsed": false,
    "pycharm": {
     "name": "#%%\n"
    }
   }
  }
 ],
 "metadata": {
  "kernelspec": {
   "display_name": "data",
   "language": "python",
   "name": "data"
  },
  "language_info": {
   "codemirror_mode": {
    "name": "ipython",
    "version": 3
   },
   "file_extension": ".py",
   "mimetype": "text/x-python",
   "name": "python",
   "nbconvert_exporter": "python",
   "pygments_lexer": "ipython3",
   "version": "3.8.10"
  }
 },
 "nbformat": 4,
 "nbformat_minor": 5
}