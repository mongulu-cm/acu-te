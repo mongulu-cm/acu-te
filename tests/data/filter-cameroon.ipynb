{
 "cells": [
  {
   "cell_type": "code",
   "execution_count": 1,
   "id": "ac7e8194-2dad-46e4-b6c2-c2593947ae89",
   "metadata": {},
   "outputs": [
    {
     "name": "stderr",
     "output_type": "stream",
     "text": [
      "22/03/24 21:36:36 WARN Utils: Your hostname, DESKTOP-3481LPC resolves to a loopback address: 127.0.1.1; using 172.21.11.8 instead (on interface eth0)\n",
      "22/03/24 21:36:36 WARN Utils: Set SPARK_LOCAL_IP if you need to bind to another address\n",
      "WARNING: An illegal reflective access operation has occurred\n",
      "WARNING: Illegal reflective access by org.apache.spark.unsafe.Platform (file:/home/bafou/.local/share/virtualenvs/data-mvNqHXNW/lib/python3.8/site-packages/pyspark/jars/spark-unsafe_2.12-3.2.1.jar) to constructor java.nio.DirectByteBuffer(long,int)\n",
      "WARNING: Please consider reporting this to the maintainers of org.apache.spark.unsafe.Platform\n",
      "WARNING: Use --illegal-access=warn to enable warnings of further illegal reflective access operations\n",
      "WARNING: All illegal access operations will be denied in a future release\n",
      "Using Spark's default log4j profile: org/apache/spark/log4j-defaults.properties\n",
      "Setting default log level to \"WARN\".\n",
      "To adjust logging level use sc.setLogLevel(newLevel). For SparkR, use setLogLevel(newLevel).\n",
      "22/03/24 21:36:38 WARN NativeCodeLoader: Unable to load native-hadoop library for your platform... using builtin-java classes where applicable\n"
     ]
    }
   ],
   "source": [
    "## CSV Files downloaded from https://www.data.gouv.fr/fr/datasets/repertoire-national-des-associations/  Fichier RNA Waldec du 01 Mars 2022\n",
    "\n",
    "import findspark\n",
    "findspark.init()\n",
    "from pyspark import SparkContext\n",
    "sc = SparkContext(appName=\"LIst of associations\")"
   ]
  },
  {
   "cell_type": "code",
   "execution_count": 16,
   "id": "efa0548a-26e7-4077-b260-48045b03d0e8",
   "metadata": {},
   "outputs": [
    {
     "name": "stderr",
     "output_type": "stream",
     "text": [
      "                                                                                \r"
     ]
    },
    {
     "name": "stdout",
     "output_type": "stream",
     "text": [
      "+----------+------+-----+------+-------+----------+----------+----------+----------+------+----------+--------------------+--------------------+--------------------+-------------+-------------+---------------+------------+---------------+-------------+----------------+------------+--------------+---------------+--------------------+--------------+--------------+---------------+--------------------+------------+---------------+--------------------+---------+------------+-------+--------+--------------------+--------+-------------------+\n",
      "|        id| id_ex|siret|rup_mi|gestion|date_creat|date_decla|date_publi|date_disso|nature|groupement|               titre|         titre_court|               objet|objet_social1|objet_social2|adrs_complement|adrs_numvoie|adrs_repetition|adrs_typevoie|    adrs_libvoie|adrs_distrib|adrs_codeinsee|adrs_codepostal|     adrs_libcommune|adrg_declarant|adrg_complemid|adrg_complemgeo|        adrg_libvoie|adrg_distrib|adrg_codepostal|       adrg_achemine|adrg_pays|dir_civilite|siteweb|publiweb|         observation|position|           maj_time|\n",
      "+----------+------+-----+------+-------+----------+----------+----------+----------+------+----------+--------------------+--------------------+--------------------+-------------+-------------+---------------+------------+---------------+-------------+----------------+------------+--------------+---------------+--------------------+--------------+--------------+---------------+--------------------+------------+---------------+--------------------+---------+------------+-------+--------+--------------------+--------+-------------------+\n",
      "|W751000001|125609| null|  null|   751P|1996-05-22|2012-01-26|1996-06-19|0001-01-01|     D|         S|               AVIVA|               AVIVA|dispenser  à domi...|       019004|       000000|           null|          42|           null|          RUE|     Le Peletier|           _|         75109|          75009|               Paris|          null|          null|           null| 42  RUE LE PELETIER|        null|          75009|               PARIS|   FRANCE|          TM|   null|       1|Numéro RNA déjà p...|       A|2012-02-27 10:48:48|\n",
      "|W751000002|     2| null|  null|   751P|1947-02-15|2017-07-20|1947-03-11|0001-01-01|     D|         S|SOCIETE AMICALE E...|     SOCIETE AMICALE|établir entre tou...|       014000|       000000|      LE BOYARD|         117|           null|           AV|     Félix Faure|           _|         75115|          75015|               Paris|          null|          null|      LE BOYARD|117  AVENUE FéLIX...|        null|          75015|               PARIS|   FRANCE|          PM|   null|       1|                null|       A|2018-09-03 12:36:20|\n",
      "|W751000005|     5| null|  null|   412S|2002-05-03|2014-12-09|2002-06-08|2014-11-15|     D|         S|             ZAGRAPH|             ZAGRAPH|association de pl...|       005020|       000000|           null|           5|           null|          IMP|du Vieux Château|           _|         41279|          41800|Villedieu-le-Château|          null|          null|           null|5  IMPASSE DU VIE...|        null|          41800|VILLEDIEU-LE-CHÂTEAU|   FRANCE|          PL|   null|       1|                null|       D|2014-12-22 13:38:51|\n",
      "|W751000006|     6| null|  null|   543P|2006-08-04|2007-05-31|0001-01-01|0001-01-01|     D|         S|            ECHOS DD|            ECHOS DD|Relais d'initiati...|       010000|       000000|           null|           9|           null|          RUE|   Gustave Petit|           _|         54395|          54000|               Nancy|          null|          null|           null|9  RUE GUSTAVE PETIT|        null|          54000|               NANCY|   FRANCE|          PF|   null|       1|                null|       A|2009-09-15 14:27:56|\n",
      "|W751000007|     7| null|  null|   131S|2007-12-11|2011-06-22|2008-01-05|2011-06-03|     D|         S|ÉOLIADES, LECTURE...|EOLIADES, LECTURE...|création de spect...|       006010|       000000|           null|          12|           null|          RUE|       Duperrier|           _|         13001|          13100|     Aix-en-Provence|          null|          null|           null|59 AVENUE SIMON B...|        null|          75019|               PARIS|   FRANCE|          PM|   null|       1|DISSOLUTION BTE 1...|       D|2011-07-20 08:02:06|\n",
      "+----------+------+-----+------+-------+----------+----------+----------+----------+------+----------+--------------------+--------------------+--------------------+-------------+-------------+---------------+------------+---------------+-------------+----------------+------------+--------------+---------------+--------------------+--------------+--------------+---------------+--------------------+------------+---------------+--------------------+---------+------------+-------+--------+--------------------+--------+-------------------+\n",
      "only showing top 5 rows\n",
      "\n"
     ]
    },
    {
     "name": "stderr",
     "output_type": "stream",
     "text": [
      "                                                                                \r"
     ]
    },
    {
     "data": {
      "text/plain": "2119460"
     },
     "execution_count": 16,
     "metadata": {},
     "output_type": "execute_result"
    }
   ],
   "source": [
    "from pyspark.sql import SparkSession\n",
    "spark = SparkSession \\\n",
    "    .builder \\\n",
    "    .appName(\"how to read csv file\") \\\n",
    "    .getOrCreate()\n",
    "\n",
    "file_location = \"/mnt/d/Projects/mongulu/acu-te/tests/data/rna_waldec_20220301/\"\n",
    "file_type = \"csv\"\n",
    "\n",
    "# CSV options\n",
    "infer_schema = \"false\"\n",
    "first_row_is_header = \"true\"\n",
    "delimiter = \";\"\n",
    "\n",
    "# The applied options are for CSV files. For other file types, these will be ignored.\n",
    "df = spark.read.format(file_type) \\\n",
    "  .option(\"inferSchema\", infer_schema) \\\n",
    "  .option(\"header\", first_row_is_header) \\\n",
    "  .option(\"sep\", delimiter) \\\n",
    "  .option(\"encoding\", \"ISO-8859-1\") \\\n",
    "  .load(file_location)\n",
    "\n",
    "df.show(5)\n",
    "df.count()"
   ]
  },
  {
   "cell_type": "code",
   "execution_count": 54,
   "outputs": [
    {
     "data": {
      "text/plain": "['id',\n 'id_ex',\n 'siret',\n 'rup_mi',\n 'gestion',\n 'date_creat',\n 'date_decla',\n 'date_publi',\n 'date_disso',\n 'nature',\n 'groupement',\n 'titre',\n 'titre_court',\n 'objet',\n 'objet_social1',\n 'objet_social2',\n 'adrs_complement',\n 'adrs_numvoie',\n 'adrs_repetition',\n 'adrs_typevoie',\n 'adrs_libvoie',\n 'adrs_distrib',\n 'adrs_codeinsee',\n 'adrs_codepostal',\n 'adrs_libcommune',\n 'adrg_declarant',\n 'adrg_complemid',\n 'adrg_complemgeo',\n 'adrg_libvoie',\n 'adrg_distrib',\n 'adrg_codepostal',\n 'adrg_achemine',\n 'adrg_pays',\n 'dir_civilite',\n 'siteweb',\n 'publiweb',\n 'observation',\n 'position',\n 'maj_time']"
     },
     "execution_count": 54,
     "metadata": {},
     "output_type": "execute_result"
    }
   ],
   "source": [
    "df.columns"
   ],
   "metadata": {
    "collapsed": false,
    "pycharm": {
     "name": "#%%\n"
    }
   }
  },
  {
   "cell_type": "code",
   "id": "5b098c99",
   "metadata": {
    "pycharm": {
     "name": "#%%\n"
    }
   },
   "source": [
    "from pyspark.sql.functions import col,lower,upper,lit,concat,when,concat_ws\n",
    "from pyspark import StorageLevel\n",
    "\n",
    "# use concat_ws instead of concat to avoid value being null if one is null (concat)\n",
    "df2 = df.filter(df.titre.contains(\"CAMEROUN\") | df.objet.contains(\"cameroun\") ) \\\n",
    "        .withColumn(\"titre\",upper(col(\"titre\")))\\\n",
    "        .withColumn(\"objet\",lower(col(\"objet\")))\\\n",
    "        .select(\"id\",\"titre\", \"objet\", \"objet_social1\",\"objet_social2\",\"adrs_numvoie\",\"adrs_typevoie\",\"adrs_libvoie\",\"adrs_codepostal\",\"adrs_libcommune\", \"siteweb\") \\\n",
    "        .withColumn(\"adrs\",concat_ws(\" \",col(\"adrs_numvoie\"), col(\"adrs_typevoie\"),col(\"adrs_libvoie\"),col('adrs_codepostal'),col('adrs_libcommune'))) \\\n",
    "        .cache()\n",
    "\n",
    "df2.show()\n",
    "df2.count()\n"
   ],
   "execution_count": 168,
   "outputs": [
    {
     "name": "stdout",
     "output_type": "stream",
     "text": [
      "+----------+--------------------+--------------------+-------------+-------------+------------+-------------+--------------------+---------------+------------------+--------------------+--------------------+\n",
      "|        id|               titre|               objet|objet_social1|objet_social2|adrs_numvoie|adrs_typevoie|        adrs_libvoie|adrs_codepostal|   adrs_libcommune|             siteweb|                adrs|\n",
      "+----------+--------------------+--------------------+-------------+-------------+------------+-------------+--------------------+---------------+------------------+--------------------+--------------------+\n",
      "|W751075369|ASSOCIATION NDOG-...|créer et favorise...|       014000|       000000|          94|          RUE|    des Chataigniers|          95100|        Argenteuil|                null|94 RUE des Chatai...|\n",
      "|W751101199|CERCLE D'ETUDES D...|étudier les tradi...|       020015|       000000|         148|           AV|            d'Italie|          75013|             Paris|                null|148 AV d'Italie 7...|\n",
      "|W751105303|LES AMIS DE L'INS...|contribuer a la r...|       040000|       000000|          21|          RUE|             d'Assas|          75006|             Paris|                null|21 RUE d'Assas 75...|\n",
      "|W751109411|ASSOCIATION DES C...|réunir, en france...|       014035|       000000|           4|          RUE|       de Castellane|          75008|             Paris|www.accd-cameroun...|4 RUE de Castella...|\n",
      "|W751118437|ASSOCIATION CAMER...|être le lieu de r...|       019000|       000000|           8|          RUE|       Raymond pitet|          75017|             Paris|                null|8 RUE Raymond pit...|\n",
      "|W751128115|ASSOCIATION SOLID...|assistance morale...|       019000|       000000|         148|           AV|            d'Italie|          75013|             Paris|                null|148 AV d'Italie 7...|\n",
      "|W751131270|ASSOCIATION CAMER...|promouvoir toute ...|       014040|       000000|          37|          RUE|            Duparchy|          91170|    Viry-Châtillon|                null|37 RUE Duparchy 9...|\n",
      "|W751135798|COLLECTIF DES ASS...|échanger nos expé...|       007075|       000000|         114|          RUE|        des Pyrenees|          75020|             Paris|                null|114 RUE des Pyren...|\n",
      "|W751143617|AMICALE MENOUA CA...|soutenir et promo...|       024045|       000000|      16 bis|           PL|        jules valles|          91000|              Évry|                null|16 bis PL jules v...|\n",
      "|W751155603|CONSEIL DES CAMER...|unir en son sein ...|       020000|       019000|           1|          RUE|         de Gergovie|          75014|             Paris|                null|1 RUE de Gergovie...|\n",
      "|W751159475|               AKIBA|promouvoir les éc...|       006070|       009000|          56|          RUE|      des Maraîchers|          75020|             Paris|                null|56 RUE des Maraîc...|\n",
      "|W751167344|L'ESPRIT TRADITIO...|rassemblement et ...|       006000|       000000|          47|           BD|           Garibaldi|          75015|             Paris|                null|47 BD Garibaldi 7...|\n",
      "|W751171311|SOUTHERN CAMEROON...|réunion des camer...|       009000|       000000|       17/19|           BD|        de la Muette|          95140|Garges-lès-Gonesse|                null|17/19 BD de la Mu...|\n",
      "|W751172035|CONSEIL DES CAMER...|oeuvrer pour l'in...|       001020|       000000|      77 bis|          RUE|            Marcadet|          75018|             Paris|                null|77 bis RUE Marcad...|\n",
      "|W751173780|COMMUNAUTE DES EN...|promouvoir la sol...|       019000|       000000|          44|          RUE|                Piat|          75020|             Paris|                null|44 RUE Piat 75020...|\n",
      "|W751176298|OVA INSEEC OBJECT...|association human...|       018005|       000000|          27|           AV|    Claude Vellefaux|          75010|             Paris|                null|27 AV Claude Vell...|\n",
      "|W751176711|ESPACE CULTUREL G...|promotion et déve...|       019000|       000000|           7|          RUE|       des Epinettes|          75017|             Paris|                null|7 RUE des Epinett...|\n",
      "|W751191215|ASSOCIATION POUR ...|accompagner l'ins...|       017200|       000000|           9|          RUE|du Bouquet de lon...|          75016|             Paris|                null|9 RUE du Bouquet ...|\n",
      "|W751200732|BAZOU GENERAL DE ...|promouvoir l'unio...|       014045|       000000|           3|          RES|        le Gai Logis|          93350|        Le Bourget|                null|3 RES le Gai Logi...|\n",
      "|W751200846|POLE D'ACTION POU...|camerounais et am...|       014040|       000000|           4|          ALL|    Valentin Abeille|          75018|             Paris|                null|4 ALL Valentin Ab...|\n",
      "+----------+--------------------+--------------------+-------------+-------------+------------+-------------+--------------------+---------------+------------------+--------------------+--------------------+\n",
      "only showing top 20 rows\n",
      "\n"
     ]
    },
    {
     "name": "stderr",
     "output_type": "stream",
     "text": [
      "22/03/25 21:57:42 WARN CacheManager: Asked to cache already cached data.\n"
     ]
    },
    {
     "data": {
      "text/plain": "1213"
     },
     "execution_count": 168,
     "metadata": {},
     "output_type": "execute_result"
    }
   ]
  },
  {
   "cell_type": "code",
   "execution_count": 170,
   "outputs": [
    {
     "name": "stdout",
     "output_type": "stream",
     "text": [
      "+----------+--------------------+--------------------+-------------+-------------+------------+-------------+------------+---------------+---------------+-------+----+\n",
      "|        id|               titre|               objet|objet_social1|objet_social2|adrs_numvoie|adrs_typevoie|adrs_libvoie|adrs_codepostal|adrs_libcommune|siteweb|adrs|\n",
      "+----------+--------------------+--------------------+-------------+-------------+------------+-------------+------------+---------------+---------------+-------+----+\n",
      "|W751226452|MOUVEMENT POUR LA...|oeuvrer à la rech...|         null|         null|        null|         null|        null|           null|           null|   null|    |\n",
      "|W751242998|CAMEROON DIASPORA...|fédérer et agir s...|         null|         null|        null|         null|        null|           null|           null|   null|    |\n",
      "|W751257781|HAUT CONSEIL DES ...|fédérer les citoy...|         null|         null|        null|         null|        null|           null|           null|   null|    |\n",
      "|W751258323|OLD KING PROJECT ...|agir en faveur du...|         null|         null|        null|         null|        null|           null|           null|   null|    |\n",
      "|W751258325|OLD KING PROJECT ...|agir en faveur du...|         null|         null|        null|         null|        null|           null|           null|   null|    |\n",
      "|W593008418|UNION DES CAMEROU...|répondre à des pr...|         null|         null|        null|         null|        null|           null|           null|   null|    |\n",
      "|W595005789|ASSOCIATION DES E...|entretenir entre ...|         null|         null|        null|         null|        null|           null|           null|   null|    |\n",
      "|W595035014|ASSOCIATION DES C...|promouvoir la cul...|         null|         null|        null|         null|        null|           null|           null|   null|    |\n",
      "|W595035341|ASSOCIATION ARC E...|promouvoir l'ente...|         null|         null|        null|         null|        null|           null|           null|   null|    |\n",
      "|W595038243|NKOLBIKORA ON THE...|promouvoir, la so...|         null|         null|        null|         null|        null|           null|           null|   null|    |\n",
      "|W333003733|      ASSO NEUM AKAP|rassembler et fai...|         null|         null|        null|         null|        null|           null|           null|   null|    |\n",
      "|W313001103|ASSOCIATION POUR ...|prévention des ma...|         null|         null|        null|         null|        null|           null|           null|   null|    |\n",
      "|W343027927|ATOUT COEUR CAMEROUN|cette association...|         null|         null|        null|         null|        null|           null|           null|   null|    |\n",
      "|W622003873|SOLIDARITE FRANCE...|organiser la soli...|         null|         null|        null|         null|        null|           null|           null|   null|    |\n",
      "|W931002605|       CAMER TALENTS|promouvoir la cul...|         null|         null|        null|         null|        null|           null|           null|   null|    |\n",
      "|W931025912|ASSOCIATION AMICA...|faire découvrir l...|         null|         null|        null|         null|        null|           null|           null|   null|    |\n",
      "|W932003261|COLLECTIF DES KAR...|regrouper tous le...|         null|         null|        null|         null|        null|           null|           null|   null|    |\n",
      "|W922012871|MOUVEMENT DES CAD...|ce mouvement a po...|         null|         null|        null|         null|        null|           null|           null|   null|    |\n",
      "|W922016047|BRIGADE ANTI-SARD...|la défense et la ...|         null|         null|        null|         null|        null|           null|           null|   null|    |\n",
      "|W941015510|BALLET DE LA DIAS...|favoriser l'intég...|         null|         null|        null|         null|        null|           null|           null|   null|    |\n",
      "+----------+--------------------+--------------------+-------------+-------------+------------+-------------+------------+---------------+---------------+-------+----+\n",
      "only showing top 20 rows\n",
      "\n"
     ]
    },
    {
     "data": {
      "text/plain": "49"
     },
     "execution_count": 170,
     "metadata": {},
     "output_type": "execute_result"
    }
   ],
   "source": [
    "df3 = df2.filter(col(\"objet_social1\").isNull())\n",
    "df3.show()\n",
    "df3.count()"
   ],
   "metadata": {
    "collapsed": false,
    "pycharm": {
     "name": "#%%\n"
    }
   }
  },
  {
   "cell_type": "code",
   "execution_count": 152,
   "outputs": [
    {
     "name": "stdout",
     "output_type": "stream",
     "text": [
      "{'objet_social1': '14000', 'objet_social2': '14035', 'adrs': '66, avenue Champs Elysées, 75008 Paris 8e'}\n"
     ]
    }
   ],
   "source": [
    "# https://journal-officiel-datadila.opendatasoft.com/explore/dataset/jo_associations/api/?sort=dateparution&q=W751226452\n",
    "import requests\n",
    "#import requests_cache\n",
    "\n",
    "#requests_cache.install_cache('demo_cache')\n",
    "\n",
    "import json\n",
    "\n",
    "def get_info (rna):\n",
    "    url = \"https://journal-officiel-datadila.opendatasoft.com/api/records/1.0/search/?dataset=jo_associations&sort=dateparution&facet=localisation_facette&facet=domaine_activite_categorise\"\n",
    "    r = requests.get('{}&q={}'.format(url,rna))\n",
    "    info = {\"objet_social1\": 000000, \"objet_social2\":00000, \"adrs\":\"\"}\n",
    "\n",
    "    try:\n",
    "        siege_social = json.loads( r.json()[\"records\"][0]['fields']['contenu'])['assoLoi1901']\\\n",
    "                           .get('creation',{\"siegeSocial\": {\"complGeographique\": \"\"}})\\\n",
    "                           .get('siegeSocial',{\"complGeographique\": \"\"})\n",
    "        if \"###\" in  r.json()[\"records\"][0]['fields']['domaine_activite_categorise']:\n",
    "            info = {\n",
    "                \"objet_social1\" : r.json()[\"records\"][0]['fields']['domaine_activite_categorise'].split(\"###\")[0].split(\"/\")[0] ,\n",
    "                \"objet_social2\" : r.json()[\"records\"][0]['fields']['domaine_activite_categorise'].split(\"###\")[1].split(\"/\")[1] ,\n",
    "                \"adrs\" : siege_social.get('complGeographique','') + \" \" + siege_social.get('codePostal', '') + \" \" + siege_social.get('commune','')\n",
    "            }\n",
    "        else:\n",
    "            info = {\n",
    "                \"objet_social1\" : r.json()[\"records\"][0]['fields']['domaine_activite_categorise'].split(\"/\")[0] ,\n",
    "                \"objet_social2\" : r.json()[\"records\"][0]['fields']['domaine_activite_categorise'].split(\"/\")[1] ,\n",
    "                \"adrs\" : siege_social.get('complGeographique','') + \" \" + siege_social.get('codePostal', '') + \" \" + siege_social.get('commune','')\n",
    "            }\n",
    "    except Exception as e :\n",
    "        print(rna)\n",
    "\n",
    "    return info\n",
    "\n",
    "\n",
    "def get_info2(rna):\n",
    "    url = \"https://entreprise.data.gouv.fr/api/rna/v1/id/W751226452\"\n",
    "    r = requests.get('{}&q={}'.format(url,rna))\n",
    "    info = {\"objet_social1\": 000000, \"objet_social2\":00000, \"adrs\":\"\"}\n",
    "\n",
    "print(get_info(\"W751226452\"))\n",
    "\n",
    "from pyspark.sql.functions import udf\n",
    "\n",
    "from pyspark.sql.types import StringType\n",
    "udf_func = udf(lambda x: get_info(x)[\"objet_social1\"], StringType())\n",
    "udf_func2 = udf(lambda x: get_info(x)[\"objet_social2\"],  StringType())\n",
    "udf_func3 = udf(lambda x: get_info(x)[\"adrs\"], StringType())\n",
    "\n",
    "# df4 = df3.withColumn('objet_social1', udf_func(df.id) ) \\\n",
    "#          .withColumn('objet_social2', udf_func2(df.id) ) \\\n",
    "#          .withColumn('adrs', udf_func3(df.id) )\n",
    "# df4.show(49)\n",
    "#df3.select(\"id\").toPandas().apply(lambda row: get_info(row[\"id\"])[\"objet_social1\"] , axis=1)\n",
    "# df4 W543014141"
   ],
   "metadata": {
    "collapsed": false,
    "pycharm": {
     "name": "#%%\n"
    }
   }
  },
  {
   "cell_type": "code",
   "source": [
    "df5 = df2.withColumn(\"objet_social1\",when(df2.objet_social1.isNull() ,lit(udf_func(df2.id))).otherwise(df2.objet_social1) ) \\\n",
    "         .withColumn(\"objet_social2\",when(df2.objet_social2.isNull() ,lit(udf_func2(df2.id))).otherwise(df2.objet_social2) ) \\\n",
    "         .withColumn(\"adrs\",when(df2.adrs.isNull() ,lit(udf_func3(df2.id))).otherwise(df2.adrs) )\n",
    "df5.show()\n",
    "df5.persist(StorageLevel.MEMORY_ONLY)"
   ],
   "metadata": {
    "collapsed": false,
    "pycharm": {
     "name": "#%%\n"
    }
   },
   "execution_count": null,
   "outputs": []
  },
  {
   "cell_type": "code",
   "execution_count": 22,
   "outputs": [
    {
     "name": "stderr",
     "output_type": "stream",
     "text": [
      "W751105303>                                                         (0 + 1) / 1]\n",
      "W751105303\n",
      "W751118437\n",
      "W751118437\n",
      "W751128115\n",
      "W751128115\n",
      "W751135798\n",
      "W751135798\n",
      "W751155603\n",
      "W751155603\n",
      "W751159475\n",
      "W751159475\n",
      "W751167344\n",
      "W751167344\n",
      "W751176298\n",
      "W751176298\n",
      "W751191215\n",
      "W751191215\n",
      "W751209557>                                                         (0 + 1) / 1]\n",
      "W751209557\n",
      "W751226253\n",
      "W751226253\n",
      "W751235451>                                                         (0 + 1) / 1]\n",
      "W751235451\n",
      "W751244071\n",
      "W751244071\n",
      "W751258323>                                                         (0 + 1) / 1]\n",
      "W751258323\n",
      "W591008409\n",
      "W591008409\n",
      "W595000027\n",
      "W595000027\n",
      "W595000074\n",
      "W595000074\n",
      "W595000205\n",
      "W595000205\n",
      "W595005789\n",
      "W595005789\n",
      "W595007532\n",
      "W595007532\n",
      "W595009028\n",
      "W595009028\n",
      "W595010182\n",
      "W595010182\n",
      "W595010704\n",
      "W595010704\n",
      "W595012656\n",
      "W595012656\n",
      "W595012868\n",
      "W595012868\n",
      "ERROR:root:KeyboardInterrupt while sending command.                 (0 + 1) / 1]\n",
      "Traceback (most recent call last):\n",
      "  File \"/home/bafou/.local/share/virtualenvs/data-mvNqHXNW/lib/python3.8/site-packages/py4j/java_gateway.py\", line 1038, in send_command\n",
      "    response = connection.send_command(command)\n",
      "  File \"/home/bafou/.local/share/virtualenvs/data-mvNqHXNW/lib/python3.8/site-packages/py4j/clientserver.py\", line 475, in send_command\n",
      "    answer = smart_decode(self.stream.readline()[:-1])\n",
      "  File \"/usr/lib/python3.8/socket.py\", line 669, in readinto\n",
      "    return self._sock.recv_into(b)\n",
      "KeyboardInterrupt\n"
     ]
    },
    {
     "ename": "KeyboardInterrupt",
     "evalue": "",
     "output_type": "error",
     "traceback": [
      "\u001B[0;31m---------------------------------------------------------------------------\u001B[0m",
      "\u001B[0;31mKeyboardInterrupt\u001B[0m                         Traceback (most recent call last)",
      "Input \u001B[0;32mIn [22]\u001B[0m, in \u001B[0;36m<cell line: 2>\u001B[0;34m()\u001B[0m\n\u001B[1;32m      1\u001B[0m \u001B[38;5;28;01mfrom\u001B[39;00m \u001B[38;5;21;01mpyspark\u001B[39;00m\u001B[38;5;21;01m.\u001B[39;00m\u001B[38;5;21;01msql\u001B[39;00m\u001B[38;5;21;01m.\u001B[39;00m\u001B[38;5;21;01mfunctions\u001B[39;00m \u001B[38;5;28;01mimport\u001B[39;00m length\n\u001B[0;32m----> 2\u001B[0m \u001B[43mdf5\u001B[49m\u001B[38;5;241;43m.\u001B[39;49m\u001B[43mwhere\u001B[49m\u001B[43m(\u001B[49m\u001B[43mlength\u001B[49m\u001B[43m(\u001B[49m\u001B[43mcol\u001B[49m\u001B[43m(\u001B[49m\u001B[38;5;124;43m\"\u001B[39;49m\u001B[38;5;124;43mobjet_social1\u001B[39;49m\u001B[38;5;124;43m\"\u001B[39;49m\u001B[43m)\u001B[49m\u001B[43m)\u001B[49m\u001B[43m \u001B[49m\u001B[38;5;241;43m>\u001B[39;49m\u001B[38;5;241;43m=\u001B[39;49m\u001B[38;5;241;43m7\u001B[39;49m\u001B[43m)\u001B[49m\u001B[38;5;241;43m.\u001B[39;49m\u001B[43mshow\u001B[49m\u001B[43m(\u001B[49m\u001B[43m)\u001B[49m\n\u001B[1;32m      3\u001B[0m df5\u001B[38;5;241m.\u001B[39mwhere(length(col(\u001B[38;5;124m\"\u001B[39m\u001B[38;5;124mobjet_social1\u001B[39m\u001B[38;5;124m\"\u001B[39m)) \u001B[38;5;241m>\u001B[39m\u001B[38;5;241m=\u001B[39m\u001B[38;5;241m7\u001B[39m)\u001B[38;5;241m.\u001B[39mcount()\n",
      "File \u001B[0;32m~/.local/share/virtualenvs/data-mvNqHXNW/lib/python3.8/site-packages/pyspark/sql/dataframe.py:494\u001B[0m, in \u001B[0;36mDataFrame.show\u001B[0;34m(self, n, truncate, vertical)\u001B[0m\n\u001B[1;32m    491\u001B[0m     \u001B[38;5;28;01mraise\u001B[39;00m \u001B[38;5;167;01mTypeError\u001B[39;00m(\u001B[38;5;124m\"\u001B[39m\u001B[38;5;124mParameter \u001B[39m\u001B[38;5;124m'\u001B[39m\u001B[38;5;124mvertical\u001B[39m\u001B[38;5;124m'\u001B[39m\u001B[38;5;124m must be a bool\u001B[39m\u001B[38;5;124m\"\u001B[39m)\n\u001B[1;32m    493\u001B[0m \u001B[38;5;28;01mif\u001B[39;00m \u001B[38;5;28misinstance\u001B[39m(truncate, \u001B[38;5;28mbool\u001B[39m) \u001B[38;5;129;01mand\u001B[39;00m truncate:\n\u001B[0;32m--> 494\u001B[0m     \u001B[38;5;28mprint\u001B[39m(\u001B[38;5;28;43mself\u001B[39;49m\u001B[38;5;241;43m.\u001B[39;49m\u001B[43m_jdf\u001B[49m\u001B[38;5;241;43m.\u001B[39;49m\u001B[43mshowString\u001B[49m\u001B[43m(\u001B[49m\u001B[43mn\u001B[49m\u001B[43m,\u001B[49m\u001B[43m \u001B[49m\u001B[38;5;241;43m20\u001B[39;49m\u001B[43m,\u001B[49m\u001B[43m \u001B[49m\u001B[43mvertical\u001B[49m\u001B[43m)\u001B[49m)\n\u001B[1;32m    495\u001B[0m \u001B[38;5;28;01melse\u001B[39;00m:\n\u001B[1;32m    496\u001B[0m     \u001B[38;5;28;01mtry\u001B[39;00m:\n",
      "File \u001B[0;32m~/.local/share/virtualenvs/data-mvNqHXNW/lib/python3.8/site-packages/py4j/java_gateway.py:1320\u001B[0m, in \u001B[0;36mJavaMember.__call__\u001B[0;34m(self, *args)\u001B[0m\n\u001B[1;32m   1313\u001B[0m args_command, temp_args \u001B[38;5;241m=\u001B[39m \u001B[38;5;28mself\u001B[39m\u001B[38;5;241m.\u001B[39m_build_args(\u001B[38;5;241m*\u001B[39margs)\n\u001B[1;32m   1315\u001B[0m command \u001B[38;5;241m=\u001B[39m proto\u001B[38;5;241m.\u001B[39mCALL_COMMAND_NAME \u001B[38;5;241m+\u001B[39m\\\n\u001B[1;32m   1316\u001B[0m     \u001B[38;5;28mself\u001B[39m\u001B[38;5;241m.\u001B[39mcommand_header \u001B[38;5;241m+\u001B[39m\\\n\u001B[1;32m   1317\u001B[0m     args_command \u001B[38;5;241m+\u001B[39m\\\n\u001B[1;32m   1318\u001B[0m     proto\u001B[38;5;241m.\u001B[39mEND_COMMAND_PART\n\u001B[0;32m-> 1320\u001B[0m answer \u001B[38;5;241m=\u001B[39m \u001B[38;5;28;43mself\u001B[39;49m\u001B[38;5;241;43m.\u001B[39;49m\u001B[43mgateway_client\u001B[49m\u001B[38;5;241;43m.\u001B[39;49m\u001B[43msend_command\u001B[49m\u001B[43m(\u001B[49m\u001B[43mcommand\u001B[49m\u001B[43m)\u001B[49m\n\u001B[1;32m   1321\u001B[0m return_value \u001B[38;5;241m=\u001B[39m get_return_value(\n\u001B[1;32m   1322\u001B[0m     answer, \u001B[38;5;28mself\u001B[39m\u001B[38;5;241m.\u001B[39mgateway_client, \u001B[38;5;28mself\u001B[39m\u001B[38;5;241m.\u001B[39mtarget_id, \u001B[38;5;28mself\u001B[39m\u001B[38;5;241m.\u001B[39mname)\n\u001B[1;32m   1324\u001B[0m \u001B[38;5;28;01mfor\u001B[39;00m temp_arg \u001B[38;5;129;01min\u001B[39;00m temp_args:\n",
      "File \u001B[0;32m~/.local/share/virtualenvs/data-mvNqHXNW/lib/python3.8/site-packages/py4j/java_gateway.py:1038\u001B[0m, in \u001B[0;36mGatewayClient.send_command\u001B[0;34m(self, command, retry, binary)\u001B[0m\n\u001B[1;32m   1036\u001B[0m connection \u001B[38;5;241m=\u001B[39m \u001B[38;5;28mself\u001B[39m\u001B[38;5;241m.\u001B[39m_get_connection()\n\u001B[1;32m   1037\u001B[0m \u001B[38;5;28;01mtry\u001B[39;00m:\n\u001B[0;32m-> 1038\u001B[0m     response \u001B[38;5;241m=\u001B[39m \u001B[43mconnection\u001B[49m\u001B[38;5;241;43m.\u001B[39;49m\u001B[43msend_command\u001B[49m\u001B[43m(\u001B[49m\u001B[43mcommand\u001B[49m\u001B[43m)\u001B[49m\n\u001B[1;32m   1039\u001B[0m     \u001B[38;5;28;01mif\u001B[39;00m binary:\n\u001B[1;32m   1040\u001B[0m         \u001B[38;5;28;01mreturn\u001B[39;00m response, \u001B[38;5;28mself\u001B[39m\u001B[38;5;241m.\u001B[39m_create_connection_guard(connection)\n",
      "File \u001B[0;32m~/.local/share/virtualenvs/data-mvNqHXNW/lib/python3.8/site-packages/py4j/clientserver.py:475\u001B[0m, in \u001B[0;36mClientServerConnection.send_command\u001B[0;34m(self, command)\u001B[0m\n\u001B[1;32m    473\u001B[0m \u001B[38;5;28;01mtry\u001B[39;00m:\n\u001B[1;32m    474\u001B[0m     \u001B[38;5;28;01mwhile\u001B[39;00m \u001B[38;5;28;01mTrue\u001B[39;00m:\n\u001B[0;32m--> 475\u001B[0m         answer \u001B[38;5;241m=\u001B[39m smart_decode(\u001B[38;5;28;43mself\u001B[39;49m\u001B[38;5;241;43m.\u001B[39;49m\u001B[43mstream\u001B[49m\u001B[38;5;241;43m.\u001B[39;49m\u001B[43mreadline\u001B[49m\u001B[43m(\u001B[49m\u001B[43m)\u001B[49m[:\u001B[38;5;241m-\u001B[39m\u001B[38;5;241m1\u001B[39m])\n\u001B[1;32m    476\u001B[0m         logger\u001B[38;5;241m.\u001B[39mdebug(\u001B[38;5;124m\"\u001B[39m\u001B[38;5;124mAnswer received: \u001B[39m\u001B[38;5;132;01m{0}\u001B[39;00m\u001B[38;5;124m\"\u001B[39m\u001B[38;5;241m.\u001B[39mformat(answer))\n\u001B[1;32m    477\u001B[0m         \u001B[38;5;66;03m# Happens when a the other end is dead. There might be an empty\u001B[39;00m\n\u001B[1;32m    478\u001B[0m         \u001B[38;5;66;03m# answer before the socket raises an error.\u001B[39;00m\n",
      "File \u001B[0;32m/usr/lib/python3.8/socket.py:669\u001B[0m, in \u001B[0;36mSocketIO.readinto\u001B[0;34m(self, b)\u001B[0m\n\u001B[1;32m    667\u001B[0m \u001B[38;5;28;01mwhile\u001B[39;00m \u001B[38;5;28;01mTrue\u001B[39;00m:\n\u001B[1;32m    668\u001B[0m     \u001B[38;5;28;01mtry\u001B[39;00m:\n\u001B[0;32m--> 669\u001B[0m         \u001B[38;5;28;01mreturn\u001B[39;00m \u001B[38;5;28;43mself\u001B[39;49m\u001B[38;5;241;43m.\u001B[39;49m\u001B[43m_sock\u001B[49m\u001B[38;5;241;43m.\u001B[39;49m\u001B[43mrecv_into\u001B[49m\u001B[43m(\u001B[49m\u001B[43mb\u001B[49m\u001B[43m)\u001B[49m\n\u001B[1;32m    670\u001B[0m     \u001B[38;5;28;01mexcept\u001B[39;00m timeout:\n\u001B[1;32m    671\u001B[0m         \u001B[38;5;28mself\u001B[39m\u001B[38;5;241m.\u001B[39m_timeout_occurred \u001B[38;5;241m=\u001B[39m \u001B[38;5;28;01mTrue\u001B[39;00m\n",
      "\u001B[0;31mKeyboardInterrupt\u001B[0m: "
     ]
    }
   ],
   "source": [
    "from pyspark.sql.functions import length\n",
    "df5.where(length(col(\"objet_social1\")) >=7).show()\n",
    "df5.where(length(col(\"objet_social1\")) >=7).count()"
   ],
   "metadata": {
    "collapsed": false,
    "pycharm": {
     "name": "#%%\n"
    }
   }
  },
  {
   "cell_type": "code",
   "execution_count": 49,
   "outputs": [
    {
     "name": "stdout",
     "output_type": "stream",
     "text": [
      "+----------+--------------------+--------------------+-------------+-------------+------------+-------------+--------------------+---------------+------------------+--------------------+--------------------+---------------------+---------------------+\n",
      "|        id|               titre|               objet|objet_social1|objet_social2|adrs_numvoie|adrs_typevoie|        adrs_libvoie|adrs_codepostal|   adrs_libcommune|             siteweb|                adrs|objet_social1_libelle|objet_social2_libelle|\n",
      "+----------+--------------------+--------------------+-------------+-------------+------------+-------------+--------------------+---------------+------------------+--------------------+--------------------+---------------------+---------------------+\n",
      "|W751075369|ASSOCIATION NDOG-...|créer et favorise...|       014000|       000000|          94|          RUE|    des Chataigniers|          95100|        Argenteuil|                null|94 RUE des Chatai...| AMICALES, GROUPEM...|               AUTRES|\n",
      "|W751101199|CERCLE D'ETUDES D...|étudier les tradi...|       020015|       000000|         148|           AV|            d'Italie|          75013|             Paris|                null|148 AV d'Italie 7...| ASSOCIATIONS CARI...|               AUTRES|\n",
      "|W751105303|LES AMIS DE L'INS...|contribuer a la r...|       040000|       000000|          21|          RUE|             d'Assas|          75006|             Paris|                null|21 RUE d'Assas 75...| ACTIVITÉS RELIGIE...|               AUTRES|\n",
      "|W751109411|ASSOCIATION DES C...|réunir, en france...|       014035|       000000|           4|          RUE|       de Castellane|          75008|             Paris|www.accd-cameroun...|4 RUE de Castella...| AMICALES, GROUPEM...|               AUTRES|\n",
      "|W751118437|ASSOCIATION CAMER...|être le lieu de r...|       019000|       000000|           8|          RUE|       Raymond pitet|          75017|             Paris|                null|8 RUE Raymond pit...| INTERVENTIONS SOC...|               AUTRES|\n",
      "|W751128115|ASSOCIATION SOLID...|assistance morale...|       019000|       000000|         148|           AV|            d'Italie|          75013|             Paris|                null|148 AV d'Italie 7...| INTERVENTIONS SOC...|               AUTRES|\n",
      "|W751131270|ASSOCIATION CAMER...|promouvoir toute ...|       014040|       000000|          37|          RUE|            Duparchy|          91170|    Viry-Châtillon|                null|37 RUE Duparchy 9...| AMICALES, GROUPEM...|               AUTRES|\n",
      "|W751135798|COLLECTIF DES ASS...|échanger nos expé...|       007075|       000000|         114|          RUE|        des Pyrenees|          75020|             Paris|                null|114 RUE des Pyren...| CLUBS DE LOISIRS,...|               AUTRES|\n",
      "|W751143617|AMICALE MENOUA CA...|soutenir et promo...|       024045|       000000|      16 bis|           PL|        jules valles|          91000|              Évry|                null|16 bis PL jules v...| ENVIRONNEMENT,  C...|               AUTRES|\n",
      "|W751155603|CONSEIL DES CAMER...|unir en son sein ...|       020000|       019000|           1|          RUE|         de Gergovie|          75014|             Paris|                null|1 RUE de Gergovie...| ASSOCIATIONS CARI...| INTERVENTIONS SOC...|\n",
      "|W751159475|               AKIBA|promouvoir les éc...|       006070|       009000|          56|          RUE|      des Maraîchers|          75020|             Paris|                null|56 RUE des Maraîc...| CULTURE, PRATIQUE...| ACTION SOCIOCULTU...|\n",
      "|W751167344|L'ESPRIT TRADITIO...|rassemblement et ...|       006000|       000000|          47|           BD|           Garibaldi|          75015|             Paris|                null|47 BD Garibaldi 7...| CULTURE, PRATIQUE...|               AUTRES|\n",
      "|W751171311|SOUTHERN CAMEROON...|réunion des camer...|       009000|       000000|       17/19|           BD|        de la Muette|          95140|Garges-lès-Gonesse|                null|17/19 BD de la Mu...| ACTION SOCIOCULTU...|               AUTRES|\n",
      "|W751172035|CONSEIL DES CAMER...|oeuvrer pour l'in...|       001020|       000000|      77 bis|          RUE|            Marcadet|          75018|             Paris|                null|77 bis RUE Marcad...| ACTIVITÉS POLITIQUES|               AUTRES|\n",
      "|W751173780|COMMUNAUTE DES EN...|promouvoir la sol...|       019000|       000000|          44|          RUE|                Piat|          75020|             Paris|                null|44 RUE Piat 75020...| INTERVENTIONS SOC...|               AUTRES|\n",
      "|W751176298|OVA INSEEC OBJECT...|association human...|       018005|       000000|          27|           AV|    Claude Vellefaux|          75010|             Paris|                null|27 AV Claude Vell...| SERVICES ET ÉTABL...|               AUTRES|\n",
      "|W751176711|ESPACE CULTUREL G...|promotion et déve...|       019000|       000000|           7|          RUE|       des Epinettes|          75017|             Paris|                null|7 RUE des Epinett...| INTERVENTIONS SOC...|               AUTRES|\n",
      "|W751191215|ASSOCIATION POUR ...|accompagner l'ins...|       017200|       000000|           9|          RUE|du Bouquet de lon...|          75016|             Paris|                null|9 RUE du Bouquet ...|                SANTÉ|               AUTRES|\n",
      "|W751200732|BAZOU GENERAL DE ...|promouvoir l'unio...|       014045|       000000|           3|          RES|        le Gai Logis|          93350|        Le Bourget|                null|3 RES le Gai Logi...| AMICALES, GROUPEM...|               AUTRES|\n",
      "|W751200846|POLE D'ACTION POU...|camerounais et am...|       014040|       000000|           4|          ALL|    Valentin Abeille|          75018|             Paris|                null|4 ALL Valentin Ab...| AMICALES, GROUPEM...|               AUTRES|\n",
      "+----------+--------------------+--------------------+-------------+-------------+------------+-------------+--------------------+---------------+------------------+--------------------+--------------------+---------------------+---------------------+\n",
      "only showing top 20 rows\n",
      "\n"
     ]
    },
    {
     "name": "stderr",
     "output_type": "stream",
     "text": [
      "22/03/24 22:46:33 WARN CacheManager: Asked to cache already cached data.\n"
     ]
    },
    {
     "data": {
      "text/plain": "DataFrame[id: string, titre: string, objet: string, objet_social1: string, objet_social2: string, adrs_numvoie: string, adrs_typevoie: string, adrs_libvoie: string, adrs_codepostal: string, adrs_libcommune: string, siteweb: string, adrs: string, objet_social1_libelle: string, objet_social2_libelle: string]"
     },
     "execution_count": 49,
     "metadata": {},
     "output_type": "execute_result"
    }
   ],
   "source": [
    "import pandas as pd\n",
    "from pyspark.sql.types import StringType\n",
    "from pyspark.sql.functions import length\n",
    "waldec_csv = pd.read_csv('rna-nomenclature-waldec.csv', delimiter=\";\",\n",
    "                         index_col=2).to_dict()[\"Libellé objet social parent\"]\n",
    "# pprint(waldec_csv)\n",
    "waldec_csv[00000] = \"AUTRES\"\n",
    "waldec_csv[19060] = \"INTERVENTIONS SOCIALES\"\n",
    "waldec_csv[22010] = \"REPRÉSENTATION, PROMOTION ET DÉFENSE D'INTÉRÊTS ÉCONOMIQUES\"\n",
    "waldec_csv[6035]  = \"CULTURE, PRATIQUES D'ACTIVITÉS ARTISTIQUES, PRATIQUES CULTURELLES\"\n",
    "waldec_csv[40510] = \"ACTIVITÉS RELIGIEUSES, SPIRITUELLES OU PHILOSOPHIQUES\"\n",
    "waldec_csv[17035] = \"SANTÉ\"\n",
    "\n",
    "udf_func3 = udf(lambda x: waldec_csv[int(x or 0)] if len(x) < 7 else \" \", StringType())\n",
    "\n",
    "df6 = df5.withColumn(\"objet_social1_libelle\",udf_func3(df5.objet_social1)) \\\n",
    "         .withColumn(\"objet_social2_libelle\",udf_func3(df5.objet_social2))\n",
    "df6.show()\n",
    "df6.persist(StorageLevel.MEMORY_ONLY)"
   ],
   "metadata": {
    "collapsed": false,
    "pycharm": {
     "name": "#%%\n"
    }
   }
  },
  {
   "cell_type": "code",
   "execution_count": 50,
   "outputs": [],
   "source": [
    "# Print files to CSV\n",
    "#df6.toPandas().to_csv(\"ref-rna-real-mars-2022.csv\")"
   ],
   "metadata": {
    "collapsed": false,
    "pycharm": {
     "name": "#%%\n"
    }
   }
  },
  {
   "cell_type": "code",
   "execution_count": 153,
   "outputs": [
    {
     "name": "stdout",
     "output_type": "stream",
     "text": [
      "W751258323\n",
      "W595005789\n",
      "W313001103\n",
      "W931002605\n",
      "W302000324\n",
      "W241000045\n"
     ]
    }
   ],
   "source": [
    "df7 = df6.toPandas()\n",
    "df7.loc[df7.adrs == \" \", \"adrs\"] = df7[df7.adrs == \" \"].apply(lambda row: get_info(row[\"id\"])[\"adrs\"],axis=1)\n",
    "df7.to_csv(\"ref-rna-real-mars-2022.csv\")"
   ],
   "metadata": {
    "collapsed": false,
    "pycharm": {
     "name": "#%%\n"
    }
   }
  },
  {
   "cell_type": "code",
   "execution_count": null,
   "outputs": [],
   "source": [],
   "metadata": {
    "collapsed": false,
    "pycharm": {
     "name": "#%%\n"
    }
   }
  }
 ],
 "metadata": {
  "kernelspec": {
   "display_name": "data",
   "language": "python",
   "name": "data"
  },
  "language_info": {
   "codemirror_mode": {
    "name": "ipython",
    "version": 3
   },
   "file_extension": ".py",
   "mimetype": "text/x-python",
   "name": "python",
   "nbconvert_exporter": "python",
   "pygments_lexer": "ipython3",
   "version": "3.8.10"
  }
 },
 "nbformat": 4,
 "nbformat_minor": 5
}